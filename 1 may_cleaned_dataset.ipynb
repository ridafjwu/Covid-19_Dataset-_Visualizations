{
 "cells": [
  {
   "cell_type": "code",
   "execution_count": 1,
   "metadata": {},
   "outputs": [],
   "source": [
    "\n",
    "import pandas as pd\n",
    "import numpy as np\n",
    "import pandas as pd\n",
    "from pandas import ExcelWriter\n",
    "from pandas import ExcelFile"
   ]
  },
  {
   "cell_type": "code",
   "execution_count": 2,
   "metadata": {},
   "outputs": [
    {
     "data": {
      "text/plain": [
       "['TimeSeries_KeyIndicators',\n",
       " 'TimeSeries_KeyIndicators_Detail',\n",
       " 'TimeSeries_Action_Screen',\n",
       " 'TimeSeries_Action_Call',\n",
       " 'TimeSeries_COVID_News',\n",
       " 'TimeSeries_NIH_Response',\n",
       " 'TimeSeries_NIH_Risk',\n",
       " 'TimeSeries_Province_Response',\n",
       " 'TimeSeries_Helpline_Calls',\n",
       " 'TimeSeries_Quarantine_Details']"
      ]
     },
     "execution_count": 2,
     "metadata": {},
     "output_type": "execute_result"
    }
   ],
   "source": [
    "data=pd.ExcelFile(r'C:\\Users\\Rida Fatima\\Downloads\\COVID_FINAL_DATA.xlsx')\n",
    "data.sheet_names\n"
   ]
  },
  {
   "cell_type": "code",
   "execution_count": 3,
   "metadata": {},
   "outputs": [
    {
     "data": {
      "text/html": [
       "<div>\n",
       "<style scoped>\n",
       "    .dataframe tbody tr th:only-of-type {\n",
       "        vertical-align: middle;\n",
       "    }\n",
       "\n",
       "    .dataframe tbody tr th {\n",
       "        vertical-align: top;\n",
       "    }\n",
       "\n",
       "    .dataframe thead th {\n",
       "        text-align: right;\n",
       "    }\n",
       "</style>\n",
       "<table border=\"1\" class=\"dataframe\">\n",
       "  <thead>\n",
       "    <tr style=\"text-align: right;\">\n",
       "      <th></th>\n",
       "      <th>Unnamed: 0</th>\n",
       "      <th>Cumulative</th>\n",
       "      <th>Cumulative  Test positive</th>\n",
       "      <th>Cumulative  tests performed</th>\n",
       "      <th>Date</th>\n",
       "      <th>Discharged</th>\n",
       "      <th>Expired</th>\n",
       "      <th>Home Quarantine</th>\n",
       "      <th>New  (last 24 hrs)</th>\n",
       "      <th>Region</th>\n",
       "      <th>Still admitted</th>\n",
       "      <th>Tests  performed in last 24 hours</th>\n",
       "    </tr>\n",
       "  </thead>\n",
       "  <tbody>\n",
       "    <tr>\n",
       "      <td>0</td>\n",
       "      <td>4</td>\n",
       "      <td>48</td>\n",
       "      <td>2</td>\n",
       "      <td>80</td>\n",
       "      <td>2020-03-11 00:00:00</td>\n",
       "      <td>0</td>\n",
       "      <td>0</td>\n",
       "      <td>NaN</td>\n",
       "      <td>3</td>\n",
       "      <td>ICT</td>\n",
       "      <td>2</td>\n",
       "      <td>8</td>\n",
       "    </tr>\n",
       "    <tr>\n",
       "      <td>1</td>\n",
       "      <td>5</td>\n",
       "      <td>61</td>\n",
       "      <td>0</td>\n",
       "      <td>95</td>\n",
       "      <td>2020-03-11 00:00:00</td>\n",
       "      <td>0</td>\n",
       "      <td>0</td>\n",
       "      <td>NaN</td>\n",
       "      <td>6</td>\n",
       "      <td>Punjab</td>\n",
       "      <td>0</td>\n",
       "      <td>7</td>\n",
       "    </tr>\n",
       "    <tr>\n",
       "      <td>2</td>\n",
       "      <td>6</td>\n",
       "      <td>84</td>\n",
       "      <td>14</td>\n",
       "      <td>171</td>\n",
       "      <td>2020-03-11 00:00:00</td>\n",
       "      <td>1</td>\n",
       "      <td>0</td>\n",
       "      <td>NaN</td>\n",
       "      <td>1</td>\n",
       "      <td>Sindh</td>\n",
       "      <td>13</td>\n",
       "      <td>55</td>\n",
       "    </tr>\n",
       "    <tr>\n",
       "      <td>3</td>\n",
       "      <td>7</td>\n",
       "      <td>20</td>\n",
       "      <td>0</td>\n",
       "      <td>28</td>\n",
       "      <td>2020-03-11 00:00:00</td>\n",
       "      <td>0</td>\n",
       "      <td>0</td>\n",
       "      <td>NaN</td>\n",
       "      <td>0</td>\n",
       "      <td>KP</td>\n",
       "      <td>0</td>\n",
       "      <td>2</td>\n",
       "    </tr>\n",
       "    <tr>\n",
       "      <td>4</td>\n",
       "      <td>8</td>\n",
       "      <td>3</td>\n",
       "      <td>0</td>\n",
       "      <td>0</td>\n",
       "      <td>2020-03-11 00:00:00</td>\n",
       "      <td>0</td>\n",
       "      <td>0</td>\n",
       "      <td>NaN</td>\n",
       "      <td>0</td>\n",
       "      <td>KPTD</td>\n",
       "      <td>0</td>\n",
       "      <td>0</td>\n",
       "    </tr>\n",
       "  </tbody>\n",
       "</table>\n",
       "</div>"
      ],
      "text/plain": [
       "   Unnamed: 0  Cumulative  Cumulative  Test positive  \\\n",
       "0           4          48                          2   \n",
       "1           5          61                          0   \n",
       "2           6          84                         14   \n",
       "3           7          20                          0   \n",
       "4           8           3                          0   \n",
       "\n",
       "   Cumulative  tests performed                 Date  Discharged  Expired  \\\n",
       "0                           80  2020-03-11 00:00:00           0        0   \n",
       "1                           95  2020-03-11 00:00:00           0        0   \n",
       "2                          171  2020-03-11 00:00:00           1        0   \n",
       "3                           28  2020-03-11 00:00:00           0        0   \n",
       "4                            0  2020-03-11 00:00:00           0        0   \n",
       "\n",
       "   Home Quarantine  New  (last 24 hrs)  Region  Still admitted  \\\n",
       "0              NaN                   3     ICT               2   \n",
       "1              NaN                   6  Punjab               0   \n",
       "2              NaN                   1   Sindh              13   \n",
       "3              NaN                   0      KP               0   \n",
       "4              NaN                   0    KPTD               0   \n",
       "\n",
       "  Tests  performed in last 24 hours  \n",
       "0                                 8  \n",
       "1                                 7  \n",
       "2                                55  \n",
       "3                                 2  \n",
       "4                                 0  "
      ]
     },
     "execution_count": 3,
     "metadata": {},
     "output_type": "execute_result"
    }
   ],
   "source": [
    "df1=pd.read_excel(data,sheet_name=0)\n",
    "df1.head()"
   ]
  },
  {
   "cell_type": "code",
   "execution_count": 4,
   "metadata": {},
   "outputs": [
    {
     "data": {
      "text/plain": [
       "RangeIndex(start=0, stop=363, step=1)"
      ]
     },
     "execution_count": 4,
     "metadata": {},
     "output_type": "execute_result"
    }
   ],
   "source": [
    "df1.index\n"
   ]
  },
  {
   "cell_type": "code",
   "execution_count": 5,
   "metadata": {},
   "outputs": [
    {
     "data": {
      "text/plain": [
       "Index(['Unnamed: 0', 'Cumulative', 'Cumulative  Test positive',\n",
       "       'Cumulative  tests performed', 'Date', 'Discharged', 'Expired',\n",
       "       'Home Quarantine', 'New  (last 24 hrs)', 'Region', 'Still admitted',\n",
       "       'Tests  performed in last 24 hours'],\n",
       "      dtype='object')"
      ]
     },
     "execution_count": 5,
     "metadata": {},
     "output_type": "execute_result"
    }
   ],
   "source": [
    "df1.columns"
   ]
  },
  {
   "cell_type": "code",
   "execution_count": 6,
   "metadata": {},
   "outputs": [
    {
     "data": {
      "text/html": [
       "<div>\n",
       "<style scoped>\n",
       "    .dataframe tbody tr th:only-of-type {\n",
       "        vertical-align: middle;\n",
       "    }\n",
       "\n",
       "    .dataframe tbody tr th {\n",
       "        vertical-align: top;\n",
       "    }\n",
       "\n",
       "    .dataframe thead th {\n",
       "        text-align: right;\n",
       "    }\n",
       "</style>\n",
       "<table border=\"1\" class=\"dataframe\">\n",
       "  <thead>\n",
       "    <tr style=\"text-align: right;\">\n",
       "      <th></th>\n",
       "      <th>Cumulative</th>\n",
       "      <th>Cumulative  Test positive</th>\n",
       "      <th>Cumulative  tests performed</th>\n",
       "      <th>Date</th>\n",
       "      <th>Discharged</th>\n",
       "      <th>Expired</th>\n",
       "      <th>Home Quarantine</th>\n",
       "      <th>New  (last 24 hrs)</th>\n",
       "      <th>Region</th>\n",
       "      <th>Still admitted</th>\n",
       "      <th>Tests  performed in last 24 hours</th>\n",
       "    </tr>\n",
       "  </thead>\n",
       "  <tbody>\n",
       "    <tr>\n",
       "      <td>0</td>\n",
       "      <td>48</td>\n",
       "      <td>2</td>\n",
       "      <td>80</td>\n",
       "      <td>2020-03-11 00:00:00</td>\n",
       "      <td>0</td>\n",
       "      <td>0</td>\n",
       "      <td>NaN</td>\n",
       "      <td>3</td>\n",
       "      <td>ICT</td>\n",
       "      <td>2</td>\n",
       "      <td>8</td>\n",
       "    </tr>\n",
       "    <tr>\n",
       "      <td>1</td>\n",
       "      <td>61</td>\n",
       "      <td>0</td>\n",
       "      <td>95</td>\n",
       "      <td>2020-03-11 00:00:00</td>\n",
       "      <td>0</td>\n",
       "      <td>0</td>\n",
       "      <td>NaN</td>\n",
       "      <td>6</td>\n",
       "      <td>Punjab</td>\n",
       "      <td>0</td>\n",
       "      <td>7</td>\n",
       "    </tr>\n",
       "    <tr>\n",
       "      <td>2</td>\n",
       "      <td>84</td>\n",
       "      <td>14</td>\n",
       "      <td>171</td>\n",
       "      <td>2020-03-11 00:00:00</td>\n",
       "      <td>1</td>\n",
       "      <td>0</td>\n",
       "      <td>NaN</td>\n",
       "      <td>1</td>\n",
       "      <td>Sindh</td>\n",
       "      <td>13</td>\n",
       "      <td>55</td>\n",
       "    </tr>\n",
       "    <tr>\n",
       "      <td>3</td>\n",
       "      <td>20</td>\n",
       "      <td>0</td>\n",
       "      <td>28</td>\n",
       "      <td>2020-03-11 00:00:00</td>\n",
       "      <td>0</td>\n",
       "      <td>0</td>\n",
       "      <td>NaN</td>\n",
       "      <td>0</td>\n",
       "      <td>KP</td>\n",
       "      <td>0</td>\n",
       "      <td>2</td>\n",
       "    </tr>\n",
       "    <tr>\n",
       "      <td>4</td>\n",
       "      <td>3</td>\n",
       "      <td>0</td>\n",
       "      <td>0</td>\n",
       "      <td>2020-03-11 00:00:00</td>\n",
       "      <td>0</td>\n",
       "      <td>0</td>\n",
       "      <td>NaN</td>\n",
       "      <td>0</td>\n",
       "      <td>KPTD</td>\n",
       "      <td>0</td>\n",
       "      <td>0</td>\n",
       "    </tr>\n",
       "  </tbody>\n",
       "</table>\n",
       "</div>"
      ],
      "text/plain": [
       "   Cumulative  Cumulative  Test positive  Cumulative  tests performed  \\\n",
       "0          48                          2                           80   \n",
       "1          61                          0                           95   \n",
       "2          84                         14                          171   \n",
       "3          20                          0                           28   \n",
       "4           3                          0                            0   \n",
       "\n",
       "                  Date  Discharged  Expired  Home Quarantine  \\\n",
       "0  2020-03-11 00:00:00           0        0              NaN   \n",
       "1  2020-03-11 00:00:00           0        0              NaN   \n",
       "2  2020-03-11 00:00:00           1        0              NaN   \n",
       "3  2020-03-11 00:00:00           0        0              NaN   \n",
       "4  2020-03-11 00:00:00           0        0              NaN   \n",
       "\n",
       "   New  (last 24 hrs)  Region  Still admitted  \\\n",
       "0                   3     ICT               2   \n",
       "1                   6  Punjab               0   \n",
       "2                   1   Sindh              13   \n",
       "3                   0      KP               0   \n",
       "4                   0    KPTD               0   \n",
       "\n",
       "  Tests  performed in last 24 hours  \n",
       "0                                 8  \n",
       "1                                 7  \n",
       "2                                55  \n",
       "3                                 2  \n",
       "4                                 0  "
      ]
     },
     "execution_count": 6,
     "metadata": {},
     "output_type": "execute_result"
    }
   ],
   "source": [
    "df1.drop('Unnamed: 0',axis=1,inplace=True) \n",
    "df1.head()"
   ]
  },
  {
   "cell_type": "code",
   "execution_count": 7,
   "metadata": {},
   "outputs": [],
   "source": [
    "df1.columns=df1.columns.str.strip().str.replace(' ','_')"
   ]
  },
  {
   "cell_type": "code",
   "execution_count": 8,
   "metadata": {},
   "outputs": [
    {
     "data": {
      "text/html": [
       "<div>\n",
       "<style scoped>\n",
       "    .dataframe tbody tr th:only-of-type {\n",
       "        vertical-align: middle;\n",
       "    }\n",
       "\n",
       "    .dataframe tbody tr th {\n",
       "        vertical-align: top;\n",
       "    }\n",
       "\n",
       "    .dataframe thead th {\n",
       "        text-align: right;\n",
       "    }\n",
       "</style>\n",
       "<table border=\"1\" class=\"dataframe\">\n",
       "  <thead>\n",
       "    <tr style=\"text-align: right;\">\n",
       "      <th></th>\n",
       "      <th>Cumulative</th>\n",
       "      <th>Cumulative__Test_positive</th>\n",
       "      <th>Cumulative__tests_performed</th>\n",
       "      <th>Date</th>\n",
       "      <th>Discharged</th>\n",
       "      <th>Expired</th>\n",
       "      <th>Home_Quarantine</th>\n",
       "      <th>New__(last_24_hrs)</th>\n",
       "      <th>Region</th>\n",
       "      <th>Still_admitted</th>\n",
       "      <th>Tests__performed_in_last_24_hours</th>\n",
       "    </tr>\n",
       "  </thead>\n",
       "  <tbody>\n",
       "    <tr>\n",
       "      <td>0</td>\n",
       "      <td>48</td>\n",
       "      <td>2</td>\n",
       "      <td>80</td>\n",
       "      <td>2020-03-11 00:00:00</td>\n",
       "      <td>0</td>\n",
       "      <td>0</td>\n",
       "      <td>NaN</td>\n",
       "      <td>3</td>\n",
       "      <td>ICT</td>\n",
       "      <td>2</td>\n",
       "      <td>8</td>\n",
       "    </tr>\n",
       "    <tr>\n",
       "      <td>1</td>\n",
       "      <td>61</td>\n",
       "      <td>0</td>\n",
       "      <td>95</td>\n",
       "      <td>2020-03-11 00:00:00</td>\n",
       "      <td>0</td>\n",
       "      <td>0</td>\n",
       "      <td>NaN</td>\n",
       "      <td>6</td>\n",
       "      <td>Punjab</td>\n",
       "      <td>0</td>\n",
       "      <td>7</td>\n",
       "    </tr>\n",
       "    <tr>\n",
       "      <td>2</td>\n",
       "      <td>84</td>\n",
       "      <td>14</td>\n",
       "      <td>171</td>\n",
       "      <td>2020-03-11 00:00:00</td>\n",
       "      <td>1</td>\n",
       "      <td>0</td>\n",
       "      <td>NaN</td>\n",
       "      <td>1</td>\n",
       "      <td>Sindh</td>\n",
       "      <td>13</td>\n",
       "      <td>55</td>\n",
       "    </tr>\n",
       "    <tr>\n",
       "      <td>3</td>\n",
       "      <td>20</td>\n",
       "      <td>0</td>\n",
       "      <td>28</td>\n",
       "      <td>2020-03-11 00:00:00</td>\n",
       "      <td>0</td>\n",
       "      <td>0</td>\n",
       "      <td>NaN</td>\n",
       "      <td>0</td>\n",
       "      <td>KP</td>\n",
       "      <td>0</td>\n",
       "      <td>2</td>\n",
       "    </tr>\n",
       "    <tr>\n",
       "      <td>4</td>\n",
       "      <td>3</td>\n",
       "      <td>0</td>\n",
       "      <td>0</td>\n",
       "      <td>2020-03-11 00:00:00</td>\n",
       "      <td>0</td>\n",
       "      <td>0</td>\n",
       "      <td>NaN</td>\n",
       "      <td>0</td>\n",
       "      <td>KPTD</td>\n",
       "      <td>0</td>\n",
       "      <td>0</td>\n",
       "    </tr>\n",
       "  </tbody>\n",
       "</table>\n",
       "</div>"
      ],
      "text/plain": [
       "   Cumulative  Cumulative__Test_positive  Cumulative__tests_performed  \\\n",
       "0          48                          2                           80   \n",
       "1          61                          0                           95   \n",
       "2          84                         14                          171   \n",
       "3          20                          0                           28   \n",
       "4           3                          0                            0   \n",
       "\n",
       "                  Date  Discharged  Expired  Home_Quarantine  \\\n",
       "0  2020-03-11 00:00:00           0        0              NaN   \n",
       "1  2020-03-11 00:00:00           0        0              NaN   \n",
       "2  2020-03-11 00:00:00           1        0              NaN   \n",
       "3  2020-03-11 00:00:00           0        0              NaN   \n",
       "4  2020-03-11 00:00:00           0        0              NaN   \n",
       "\n",
       "   New__(last_24_hrs)  Region  Still_admitted  \\\n",
       "0                   3     ICT               2   \n",
       "1                   6  Punjab               0   \n",
       "2                   1   Sindh              13   \n",
       "3                   0      KP               0   \n",
       "4                   0    KPTD               0   \n",
       "\n",
       "  Tests__performed_in_last_24_hours  \n",
       "0                                 8  \n",
       "1                                 7  \n",
       "2                                55  \n",
       "3                                 2  \n",
       "4                                 0  "
      ]
     },
     "execution_count": 8,
     "metadata": {},
     "output_type": "execute_result"
    }
   ],
   "source": [
    "df1.head()"
   ]
  },
  {
   "cell_type": "code",
   "execution_count": 9,
   "metadata": {},
   "outputs": [
    {
     "data": {
      "text/plain": [
       "Cumulative                             0\n",
       "Cumulative__Test_positive              0\n",
       "Cumulative__tests_performed            0\n",
       "Date                                   0\n",
       "Discharged                             0\n",
       "Expired                                0\n",
       "Home_Quarantine                      139\n",
       "New__(last_24_hrs)                     0\n",
       "Region                                 0\n",
       "Still_admitted                         0\n",
       "Tests__performed_in_last_24_hours      0\n",
       "dtype: int64"
      ]
     },
     "execution_count": 9,
     "metadata": {},
     "output_type": "execute_result"
    }
   ],
   "source": [
    "df1.isnull().sum()"
   ]
  },
  {
   "cell_type": "code",
   "execution_count": 10,
   "metadata": {},
   "outputs": [
    {
     "data": {
      "text/plain": [
       "0         0.0\n",
       "1         0.0\n",
       "2         0.0\n",
       "3         0.0\n",
       "4         0.0\n",
       "        ...  \n",
       "358      94.0\n",
       "359     238.0\n",
       "360     988.0\n",
       "361    2581.0\n",
       "362    2913.0\n",
       "Name: Home_Quarantine, Length: 363, dtype: float64"
      ]
     },
     "execution_count": 10,
     "metadata": {},
     "output_type": "execute_result"
    }
   ],
   "source": [
    "df1['Home_Quarantine'].fillna(0,inplace=True) \n",
    "df1['Home_Quarantine']"
   ]
  },
  {
   "cell_type": "code",
   "execution_count": 11,
   "metadata": {},
   "outputs": [
    {
     "name": "stdout",
     "output_type": "stream",
     "text": [
      "<class 'pandas.core.frame.DataFrame'>\n",
      "RangeIndex: 363 entries, 0 to 362\n",
      "Data columns (total 11 columns):\n",
      "Cumulative                           363 non-null int64\n",
      "Cumulative__Test_positive            363 non-null int64\n",
      "Cumulative__tests_performed          363 non-null int64\n",
      "Date                                 363 non-null object\n",
      "Discharged                           363 non-null int64\n",
      "Expired                              363 non-null int64\n",
      "Home_Quarantine                      363 non-null int64\n",
      "New__(last_24_hrs)                   363 non-null int64\n",
      "Region                               363 non-null object\n",
      "Still_admitted                       363 non-null int64\n",
      "Tests__performed_in_last_24_hours    363 non-null object\n",
      "dtypes: int64(8), object(3)\n",
      "memory usage: 31.3+ KB\n"
     ]
    }
   ],
   "source": [
    "df1['Home_Quarantine']=df1['Home_Quarantine'].apply(np.int64)\n",
    "df1.info()"
   ]
  },
  {
   "cell_type": "code",
   "execution_count": 12,
   "metadata": {},
   "outputs": [
    {
     "data": {
      "text/plain": [
       "0     2020-03-11\n",
       "1     2020-03-11\n",
       "2     2020-03-11\n",
       "3     2020-03-11\n",
       "4     2020-03-11\n",
       "         ...    \n",
       "358   2020-04-29\n",
       "359   2020-04-29\n",
       "360   2020-04-29\n",
       "361   2020-04-29\n",
       "362   2020-04-29\n",
       "Name: Date, Length: 363, dtype: datetime64[ns]"
      ]
     },
     "execution_count": 12,
     "metadata": {},
     "output_type": "execute_result"
    }
   ],
   "source": [
    "df1['Date']=pd.to_datetime(df1.Date)\n",
    "df1['Date']"
   ]
  },
  {
   "cell_type": "code",
   "execution_count": 13,
   "metadata": {},
   "outputs": [
    {
     "data": {
      "text/plain": [
       "Cumulative                                    int64\n",
       "Cumulative__Test_positive                     int64\n",
       "Cumulative__tests_performed                   int64\n",
       "Date                                 datetime64[ns]\n",
       "Discharged                                    int64\n",
       "Expired                                       int64\n",
       "Home_Quarantine                               int64\n",
       "New__(last_24_hrs)                            int64\n",
       "Region                                       object\n",
       "Still_admitted                                int64\n",
       "Tests__performed_in_last_24_hours            object\n",
       "dtype: object"
      ]
     },
     "execution_count": 13,
     "metadata": {},
     "output_type": "execute_result"
    }
   ],
   "source": [
    "df1.dtypes"
   ]
  },
  {
   "cell_type": "code",
   "execution_count": 14,
   "metadata": {},
   "outputs": [],
   "source": [
    "df1['Tests__performed_in_last_24_hours']=np.where(df1['Tests__performed_in_last_24_hours']=='No 0',0,df1.Tests__performed_in_last_24_hours)"
   ]
  },
  {
   "cell_type": "code",
   "execution_count": 15,
   "metadata": {},
   "outputs": [],
   "source": [
    "df1['Tests__performed_in_last_24_hours']=df1['Tests__performed_in_last_24_hours'].apply(np.int64) "
   ]
  },
  {
   "cell_type": "code",
   "execution_count": 16,
   "metadata": {},
   "outputs": [
    {
     "data": {
      "text/plain": [
       "Cumulative                                    int64\n",
       "Cumulative__Test_positive                     int64\n",
       "Cumulative__tests_performed                   int64\n",
       "Date                                 datetime64[ns]\n",
       "Discharged                                    int64\n",
       "Expired                                       int64\n",
       "Home_Quarantine                               int64\n",
       "New__(last_24_hrs)                            int64\n",
       "Region                                       object\n",
       "Still_admitted                                int64\n",
       "Tests__performed_in_last_24_hours             int64\n",
       "dtype: object"
      ]
     },
     "execution_count": 16,
     "metadata": {},
     "output_type": "execute_result"
    }
   ],
   "source": [
    "df1.dtypes"
   ]
  },
  {
   "cell_type": "code",
   "execution_count": 17,
   "metadata": {},
   "outputs": [
    {
     "data": {
      "text/plain": [
       "0         8\n",
       "1         7\n",
       "2        55\n",
       "3         2\n",
       "4         0\n",
       "       ... \n",
       "358     132\n",
       "359     458\n",
       "360     812\n",
       "361    2548\n",
       "362    4112\n",
       "Name: Tests__performed_in_last_24_hours, Length: 363, dtype: int64"
      ]
     },
     "execution_count": 17,
     "metadata": {},
     "output_type": "execute_result"
    }
   ],
   "source": [
    "df1['Tests__performed_in_last_24_hours']"
   ]
  },
  {
   "cell_type": "code",
   "execution_count": 18,
   "metadata": {},
   "outputs": [
    {
     "data": {
      "text/plain": [
       "False"
      ]
     },
     "execution_count": 18,
     "metadata": {},
     "output_type": "execute_result"
    }
   ],
   "source": [
    "df1.duplicated().any()"
   ]
  },
  {
   "cell_type": "code",
   "execution_count": 19,
   "metadata": {},
   "outputs": [
    {
     "data": {
      "text/html": [
       "<div>\n",
       "<style scoped>\n",
       "    .dataframe tbody tr th:only-of-type {\n",
       "        vertical-align: middle;\n",
       "    }\n",
       "\n",
       "    .dataframe tbody tr th {\n",
       "        vertical-align: top;\n",
       "    }\n",
       "\n",
       "    .dataframe thead th {\n",
       "        text-align: right;\n",
       "    }\n",
       "</style>\n",
       "<table border=\"1\" class=\"dataframe\">\n",
       "  <thead>\n",
       "    <tr style=\"text-align: right;\">\n",
       "      <th></th>\n",
       "      <th>Cumulative</th>\n",
       "      <th>Cumulative__Test_positive</th>\n",
       "      <th>Cumulative__tests_performed</th>\n",
       "      <th>Discharged</th>\n",
       "      <th>Expired</th>\n",
       "      <th>Home_Quarantine</th>\n",
       "      <th>New__(last_24_hrs)</th>\n",
       "      <th>Still_admitted</th>\n",
       "      <th>Tests__performed_in_last_24_hours</th>\n",
       "    </tr>\n",
       "  </thead>\n",
       "  <tbody>\n",
       "    <tr>\n",
       "      <td>count</td>\n",
       "      <td>363.000000</td>\n",
       "      <td>363.000000</td>\n",
       "      <td>363.000000</td>\n",
       "      <td>363.000000</td>\n",
       "      <td>363.000000</td>\n",
       "      <td>363.000000</td>\n",
       "      <td>363.000000</td>\n",
       "      <td>363.000000</td>\n",
       "      <td>363.000000</td>\n",
       "    </tr>\n",
       "    <tr>\n",
       "      <td>mean</td>\n",
       "      <td>5474.236915</td>\n",
       "      <td>609.752066</td>\n",
       "      <td>6922.528926</td>\n",
       "      <td>145.049587</td>\n",
       "      <td>11.358127</td>\n",
       "      <td>295.730028</td>\n",
       "      <td>369.820937</td>\n",
       "      <td>185.914601</td>\n",
       "      <td>344.969697</td>\n",
       "    </tr>\n",
       "    <tr>\n",
       "      <td>std</td>\n",
       "      <td>9646.580573</td>\n",
       "      <td>1144.624812</td>\n",
       "      <td>14195.054632</td>\n",
       "      <td>354.547315</td>\n",
       "      <td>23.058743</td>\n",
       "      <td>1227.649411</td>\n",
       "      <td>655.021853</td>\n",
       "      <td>326.760884</td>\n",
       "      <td>688.249354</td>\n",
       "    </tr>\n",
       "    <tr>\n",
       "      <td>min</td>\n",
       "      <td>0.000000</td>\n",
       "      <td>0.000000</td>\n",
       "      <td>0.000000</td>\n",
       "      <td>0.000000</td>\n",
       "      <td>0.000000</td>\n",
       "      <td>0.000000</td>\n",
       "      <td>0.000000</td>\n",
       "      <td>0.000000</td>\n",
       "      <td>0.000000</td>\n",
       "    </tr>\n",
       "    <tr>\n",
       "      <td>25%</td>\n",
       "      <td>164.500000</td>\n",
       "      <td>18.000000</td>\n",
       "      <td>318.500000</td>\n",
       "      <td>0.000000</td>\n",
       "      <td>0.000000</td>\n",
       "      <td>0.000000</td>\n",
       "      <td>11.000000</td>\n",
       "      <td>10.000000</td>\n",
       "      <td>0.000000</td>\n",
       "    </tr>\n",
       "    <tr>\n",
       "      <td>50%</td>\n",
       "      <td>1494.000000</td>\n",
       "      <td>169.000000</td>\n",
       "      <td>1563.000000</td>\n",
       "      <td>5.000000</td>\n",
       "      <td>1.000000</td>\n",
       "      <td>0.000000</td>\n",
       "      <td>95.000000</td>\n",
       "      <td>30.000000</td>\n",
       "      <td>37.000000</td>\n",
       "    </tr>\n",
       "    <tr>\n",
       "      <td>75%</td>\n",
       "      <td>5503.500000</td>\n",
       "      <td>539.500000</td>\n",
       "      <td>5397.000000</td>\n",
       "      <td>138.500000</td>\n",
       "      <td>8.500000</td>\n",
       "      <td>182.000000</td>\n",
       "      <td>393.500000</td>\n",
       "      <td>227.500000</td>\n",
       "      <td>287.000000</td>\n",
       "    </tr>\n",
       "    <tr>\n",
       "      <td>max</td>\n",
       "      <td>48061.000000</td>\n",
       "      <td>5827.000000</td>\n",
       "      <td>77619.000000</td>\n",
       "      <td>2577.000000</td>\n",
       "      <td>114.000000</td>\n",
       "      <td>21452.000000</td>\n",
       "      <td>4112.000000</td>\n",
       "      <td>1719.000000</td>\n",
       "      <td>4112.000000</td>\n",
       "    </tr>\n",
       "  </tbody>\n",
       "</table>\n",
       "</div>"
      ],
      "text/plain": [
       "         Cumulative  Cumulative__Test_positive  Cumulative__tests_performed  \\\n",
       "count    363.000000                 363.000000                   363.000000   \n",
       "mean    5474.236915                 609.752066                  6922.528926   \n",
       "std     9646.580573                1144.624812                 14195.054632   \n",
       "min        0.000000                   0.000000                     0.000000   \n",
       "25%      164.500000                  18.000000                   318.500000   \n",
       "50%     1494.000000                 169.000000                  1563.000000   \n",
       "75%     5503.500000                 539.500000                  5397.000000   \n",
       "max    48061.000000                5827.000000                 77619.000000   \n",
       "\n",
       "        Discharged     Expired  Home_Quarantine  New__(last_24_hrs)  \\\n",
       "count   363.000000  363.000000       363.000000          363.000000   \n",
       "mean    145.049587   11.358127       295.730028          369.820937   \n",
       "std     354.547315   23.058743      1227.649411          655.021853   \n",
       "min       0.000000    0.000000         0.000000            0.000000   \n",
       "25%       0.000000    0.000000         0.000000           11.000000   \n",
       "50%       5.000000    1.000000         0.000000           95.000000   \n",
       "75%     138.500000    8.500000       182.000000          393.500000   \n",
       "max    2577.000000  114.000000     21452.000000         4112.000000   \n",
       "\n",
       "       Still_admitted  Tests__performed_in_last_24_hours  \n",
       "count      363.000000                         363.000000  \n",
       "mean       185.914601                         344.969697  \n",
       "std        326.760884                         688.249354  \n",
       "min          0.000000                           0.000000  \n",
       "25%         10.000000                           0.000000  \n",
       "50%         30.000000                          37.000000  \n",
       "75%        227.500000                         287.000000  \n",
       "max       1719.000000                        4112.000000  "
      ]
     },
     "execution_count": 19,
     "metadata": {},
     "output_type": "execute_result"
    }
   ],
   "source": [
    "df1.describe()  #data is clean"
   ]
  },
  {
   "cell_type": "code",
   "execution_count": 20,
   "metadata": {},
   "outputs": [
    {
     "data": {
      "text/html": [
       "<div>\n",
       "<style scoped>\n",
       "    .dataframe tbody tr th:only-of-type {\n",
       "        vertical-align: middle;\n",
       "    }\n",
       "\n",
       "    .dataframe tbody tr th {\n",
       "        vertical-align: top;\n",
       "    }\n",
       "\n",
       "    .dataframe thead th {\n",
       "        text-align: right;\n",
       "    }\n",
       "</style>\n",
       "<table border=\"1\" class=\"dataframe\">\n",
       "  <thead>\n",
       "    <tr style=\"text-align: right;\">\n",
       "      <th></th>\n",
       "      <th>Cumulative</th>\n",
       "      <th>Cumulative__Test_positive</th>\n",
       "      <th>Cumulative__tests_performed</th>\n",
       "      <th>Date</th>\n",
       "      <th>Discharged</th>\n",
       "      <th>Expired</th>\n",
       "      <th>Home_Quarantine</th>\n",
       "      <th>New__(last_24_hrs)</th>\n",
       "      <th>Region</th>\n",
       "      <th>Still_admitted</th>\n",
       "      <th>Tests__performed_in_last_24_hours</th>\n",
       "    </tr>\n",
       "  </thead>\n",
       "  <tbody>\n",
       "    <tr>\n",
       "      <td>4</td>\n",
       "      <td>3</td>\n",
       "      <td>0</td>\n",
       "      <td>0</td>\n",
       "      <td>2020-03-11</td>\n",
       "      <td>0</td>\n",
       "      <td>0</td>\n",
       "      <td>0</td>\n",
       "      <td>0</td>\n",
       "      <td>KPTD</td>\n",
       "      <td>0</td>\n",
       "      <td>0</td>\n",
       "    </tr>\n",
       "    <tr>\n",
       "      <td>12</td>\n",
       "      <td>3</td>\n",
       "      <td>0</td>\n",
       "      <td>0</td>\n",
       "      <td>2020-03-12</td>\n",
       "      <td>0</td>\n",
       "      <td>0</td>\n",
       "      <td>0</td>\n",
       "      <td>0</td>\n",
       "      <td>KPTD</td>\n",
       "      <td>0</td>\n",
       "      <td>0</td>\n",
       "    </tr>\n",
       "    <tr>\n",
       "      <td>20</td>\n",
       "      <td>4</td>\n",
       "      <td>0</td>\n",
       "      <td>0</td>\n",
       "      <td>2020-03-13</td>\n",
       "      <td>0</td>\n",
       "      <td>0</td>\n",
       "      <td>0</td>\n",
       "      <td>1</td>\n",
       "      <td>KPTD</td>\n",
       "      <td>0</td>\n",
       "      <td>0</td>\n",
       "    </tr>\n",
       "    <tr>\n",
       "      <td>28</td>\n",
       "      <td>4</td>\n",
       "      <td>0</td>\n",
       "      <td>0</td>\n",
       "      <td>2020-03-14</td>\n",
       "      <td>0</td>\n",
       "      <td>0</td>\n",
       "      <td>0</td>\n",
       "      <td>0</td>\n",
       "      <td>KPTD</td>\n",
       "      <td>0</td>\n",
       "      <td>0</td>\n",
       "    </tr>\n",
       "    <tr>\n",
       "      <td>36</td>\n",
       "      <td>5</td>\n",
       "      <td>0</td>\n",
       "      <td>0</td>\n",
       "      <td>2020-03-15</td>\n",
       "      <td>0</td>\n",
       "      <td>0</td>\n",
       "      <td>0</td>\n",
       "      <td>1</td>\n",
       "      <td>KPTD</td>\n",
       "      <td>0</td>\n",
       "      <td>0</td>\n",
       "    </tr>\n",
       "    <tr>\n",
       "      <td>44</td>\n",
       "      <td>5</td>\n",
       "      <td>0</td>\n",
       "      <td>0</td>\n",
       "      <td>2020-03-16</td>\n",
       "      <td>0</td>\n",
       "      <td>0</td>\n",
       "      <td>0</td>\n",
       "      <td>0</td>\n",
       "      <td>KPTD</td>\n",
       "      <td>0</td>\n",
       "      <td>0</td>\n",
       "    </tr>\n",
       "    <tr>\n",
       "      <td>53</td>\n",
       "      <td>5</td>\n",
       "      <td>0</td>\n",
       "      <td>0</td>\n",
       "      <td>2020-03-17</td>\n",
       "      <td>0</td>\n",
       "      <td>0</td>\n",
       "      <td>0</td>\n",
       "      <td>0</td>\n",
       "      <td>KPTD</td>\n",
       "      <td>0</td>\n",
       "      <td>0</td>\n",
       "    </tr>\n",
       "    <tr>\n",
       "      <td>61</td>\n",
       "      <td>6</td>\n",
       "      <td>0</td>\n",
       "      <td>0</td>\n",
       "      <td>2020-03-18</td>\n",
       "      <td>0</td>\n",
       "      <td>0</td>\n",
       "      <td>0</td>\n",
       "      <td>1</td>\n",
       "      <td>KPTD</td>\n",
       "      <td>0</td>\n",
       "      <td>0</td>\n",
       "    </tr>\n",
       "    <tr>\n",
       "      <td>69</td>\n",
       "      <td>7</td>\n",
       "      <td>0</td>\n",
       "      <td>0</td>\n",
       "      <td>2020-03-19</td>\n",
       "      <td>0</td>\n",
       "      <td>0</td>\n",
       "      <td>0</td>\n",
       "      <td>1</td>\n",
       "      <td>KPTD</td>\n",
       "      <td>0</td>\n",
       "      <td>0</td>\n",
       "    </tr>\n",
       "    <tr>\n",
       "      <td>77</td>\n",
       "      <td>19</td>\n",
       "      <td>0</td>\n",
       "      <td>0</td>\n",
       "      <td>2020-03-20</td>\n",
       "      <td>0</td>\n",
       "      <td>0</td>\n",
       "      <td>0</td>\n",
       "      <td>12</td>\n",
       "      <td>KPTD</td>\n",
       "      <td>0</td>\n",
       "      <td>0</td>\n",
       "    </tr>\n",
       "    <tr>\n",
       "      <td>85</td>\n",
       "      <td>21</td>\n",
       "      <td>0</td>\n",
       "      <td>0</td>\n",
       "      <td>2020-03-21</td>\n",
       "      <td>0</td>\n",
       "      <td>0</td>\n",
       "      <td>0</td>\n",
       "      <td>2</td>\n",
       "      <td>KPTD</td>\n",
       "      <td>0</td>\n",
       "      <td>0</td>\n",
       "    </tr>\n",
       "    <tr>\n",
       "      <td>93</td>\n",
       "      <td>21</td>\n",
       "      <td>0</td>\n",
       "      <td>0</td>\n",
       "      <td>2020-03-22</td>\n",
       "      <td>0</td>\n",
       "      <td>0</td>\n",
       "      <td>0</td>\n",
       "      <td>0</td>\n",
       "      <td>KPTD</td>\n",
       "      <td>0</td>\n",
       "      <td>0</td>\n",
       "    </tr>\n",
       "  </tbody>\n",
       "</table>\n",
       "</div>"
      ],
      "text/plain": [
       "    Cumulative  Cumulative__Test_positive  Cumulative__tests_performed  \\\n",
       "4            3                          0                            0   \n",
       "12           3                          0                            0   \n",
       "20           4                          0                            0   \n",
       "28           4                          0                            0   \n",
       "36           5                          0                            0   \n",
       "44           5                          0                            0   \n",
       "53           5                          0                            0   \n",
       "61           6                          0                            0   \n",
       "69           7                          0                            0   \n",
       "77          19                          0                            0   \n",
       "85          21                          0                            0   \n",
       "93          21                          0                            0   \n",
       "\n",
       "         Date  Discharged  Expired  Home_Quarantine  New__(last_24_hrs)  \\\n",
       "4  2020-03-11           0        0                0                   0   \n",
       "12 2020-03-12           0        0                0                   0   \n",
       "20 2020-03-13           0        0                0                   1   \n",
       "28 2020-03-14           0        0                0                   0   \n",
       "36 2020-03-15           0        0                0                   1   \n",
       "44 2020-03-16           0        0                0                   0   \n",
       "53 2020-03-17           0        0                0                   0   \n",
       "61 2020-03-18           0        0                0                   1   \n",
       "69 2020-03-19           0        0                0                   1   \n",
       "77 2020-03-20           0        0                0                  12   \n",
       "85 2020-03-21           0        0                0                   2   \n",
       "93 2020-03-22           0        0                0                   0   \n",
       "\n",
       "   Region  Still_admitted  Tests__performed_in_last_24_hours  \n",
       "4    KPTD               0                                  0  \n",
       "12   KPTD               0                                  0  \n",
       "20   KPTD               0                                  0  \n",
       "28   KPTD               0                                  0  \n",
       "36   KPTD               0                                  0  \n",
       "44   KPTD               0                                  0  \n",
       "53   KPTD               0                                  0  \n",
       "61   KPTD               0                                  0  \n",
       "69   KPTD               0                                  0  \n",
       "77   KPTD               0                                  0  \n",
       "85   KPTD               0                                  0  \n",
       "93   KPTD               0                                  0  "
      ]
     },
     "execution_count": 20,
     "metadata": {},
     "output_type": "execute_result"
    }
   ],
   "source": [
    "df1.loc[df1['Region']=='KPTD']"
   ]
  },
  {
   "cell_type": "code",
   "execution_count": 21,
   "metadata": {},
   "outputs": [
    {
     "data": {
      "text/html": [
       "<div>\n",
       "<style scoped>\n",
       "    .dataframe tbody tr th:only-of-type {\n",
       "        vertical-align: middle;\n",
       "    }\n",
       "\n",
       "    .dataframe tbody tr th {\n",
       "        vertical-align: top;\n",
       "    }\n",
       "\n",
       "    .dataframe thead th {\n",
       "        text-align: right;\n",
       "    }\n",
       "</style>\n",
       "<table border=\"1\" class=\"dataframe\">\n",
       "  <thead>\n",
       "    <tr style=\"text-align: right;\">\n",
       "      <th></th>\n",
       "      <th>Cumulative</th>\n",
       "      <th>Cumulative__Test_positive</th>\n",
       "      <th>Cumulative__tests_performed</th>\n",
       "      <th>Date</th>\n",
       "      <th>Discharged</th>\n",
       "      <th>Expired</th>\n",
       "      <th>Home_Quarantine</th>\n",
       "      <th>New__(last_24_hrs)</th>\n",
       "      <th>Region</th>\n",
       "      <th>Still_admitted</th>\n",
       "      <th>Tests__performed_in_last_24_hours</th>\n",
       "    </tr>\n",
       "  </thead>\n",
       "  <tbody>\n",
       "    <tr>\n",
       "      <td>48</td>\n",
       "      <td>0</td>\n",
       "      <td>6</td>\n",
       "      <td>28</td>\n",
       "      <td>2020-03-16</td>\n",
       "      <td>0</td>\n",
       "      <td>0</td>\n",
       "      <td>0</td>\n",
       "      <td>0</td>\n",
       "      <td>Mobile Lab</td>\n",
       "      <td>0</td>\n",
       "      <td>6</td>\n",
       "    </tr>\n",
       "  </tbody>\n",
       "</table>\n",
       "</div>"
      ],
      "text/plain": [
       "    Cumulative  Cumulative__Test_positive  Cumulative__tests_performed  \\\n",
       "48           0                          6                           28   \n",
       "\n",
       "         Date  Discharged  Expired  Home_Quarantine  New__(last_24_hrs)  \\\n",
       "48 2020-03-16           0        0                0                   0   \n",
       "\n",
       "        Region  Still_admitted  Tests__performed_in_last_24_hours  \n",
       "48  Mobile Lab               0                                  6  "
      ]
     },
     "execution_count": 21,
     "metadata": {},
     "output_type": "execute_result"
    }
   ],
   "source": [
    "df1.loc[df1['Region']=='Mobile Lab'] "
   ]
  },
  {
   "cell_type": "code",
   "execution_count": 22,
   "metadata": {},
   "outputs": [
    {
     "data": {
      "text/plain": [
       "(350, 11)"
      ]
     },
     "execution_count": 22,
     "metadata": {},
     "output_type": "execute_result"
    }
   ],
   "source": [
    "df1.drop(df1.loc[df1['Region'].isin(['KPTD','Mobile Lab'])].index,inplace=True)\n",
    "df1.shape"
   ]
  },
  {
   "cell_type": "code",
   "execution_count": 23,
   "metadata": {},
   "outputs": [
    {
     "data": {
      "text/html": [
       "<div>\n",
       "<style scoped>\n",
       "    .dataframe tbody tr th:only-of-type {\n",
       "        vertical-align: middle;\n",
       "    }\n",
       "\n",
       "    .dataframe tbody tr th {\n",
       "        vertical-align: top;\n",
       "    }\n",
       "\n",
       "    .dataframe thead th {\n",
       "        text-align: right;\n",
       "    }\n",
       "</style>\n",
       "<table border=\"1\" class=\"dataframe\">\n",
       "  <thead>\n",
       "    <tr style=\"text-align: right;\">\n",
       "      <th></th>\n",
       "      <th>Cumulative</th>\n",
       "      <th>Cumulative__Test_positive</th>\n",
       "      <th>Cumulative__tests_performed</th>\n",
       "      <th>Date</th>\n",
       "      <th>Discharged</th>\n",
       "      <th>Expired</th>\n",
       "      <th>Home_Quarantine</th>\n",
       "      <th>New__(last_24_hrs)</th>\n",
       "      <th>Region</th>\n",
       "      <th>Still_admitted</th>\n",
       "      <th>Tests__performed_in_last_24_hours</th>\n",
       "    </tr>\n",
       "  </thead>\n",
       "  <tbody>\n",
       "    <tr>\n",
       "      <td>0</td>\n",
       "      <td>48</td>\n",
       "      <td>2</td>\n",
       "      <td>80</td>\n",
       "      <td>2020-03-11</td>\n",
       "      <td>0</td>\n",
       "      <td>0</td>\n",
       "      <td>0</td>\n",
       "      <td>3</td>\n",
       "      <td>ICT</td>\n",
       "      <td>2</td>\n",
       "      <td>8</td>\n",
       "    </tr>\n",
       "    <tr>\n",
       "      <td>1</td>\n",
       "      <td>61</td>\n",
       "      <td>0</td>\n",
       "      <td>95</td>\n",
       "      <td>2020-03-11</td>\n",
       "      <td>0</td>\n",
       "      <td>0</td>\n",
       "      <td>0</td>\n",
       "      <td>6</td>\n",
       "      <td>Punjab</td>\n",
       "      <td>0</td>\n",
       "      <td>7</td>\n",
       "    </tr>\n",
       "    <tr>\n",
       "      <td>2</td>\n",
       "      <td>84</td>\n",
       "      <td>14</td>\n",
       "      <td>171</td>\n",
       "      <td>2020-03-11</td>\n",
       "      <td>1</td>\n",
       "      <td>0</td>\n",
       "      <td>0</td>\n",
       "      <td>1</td>\n",
       "      <td>Sindh</td>\n",
       "      <td>13</td>\n",
       "      <td>55</td>\n",
       "    </tr>\n",
       "    <tr>\n",
       "      <td>3</td>\n",
       "      <td>20</td>\n",
       "      <td>0</td>\n",
       "      <td>28</td>\n",
       "      <td>2020-03-11</td>\n",
       "      <td>0</td>\n",
       "      <td>0</td>\n",
       "      <td>0</td>\n",
       "      <td>0</td>\n",
       "      <td>KP</td>\n",
       "      <td>0</td>\n",
       "      <td>2</td>\n",
       "    </tr>\n",
       "    <tr>\n",
       "      <td>5</td>\n",
       "      <td>19</td>\n",
       "      <td>1</td>\n",
       "      <td>18</td>\n",
       "      <td>2020-03-11</td>\n",
       "      <td>0</td>\n",
       "      <td>0</td>\n",
       "      <td>0</td>\n",
       "      <td>4</td>\n",
       "      <td>Balochistan</td>\n",
       "      <td>1</td>\n",
       "      <td>4</td>\n",
       "    </tr>\n",
       "  </tbody>\n",
       "</table>\n",
       "</div>"
      ],
      "text/plain": [
       "   Cumulative  Cumulative__Test_positive  Cumulative__tests_performed  \\\n",
       "0          48                          2                           80   \n",
       "1          61                          0                           95   \n",
       "2          84                         14                          171   \n",
       "3          20                          0                           28   \n",
       "5          19                          1                           18   \n",
       "\n",
       "        Date  Discharged  Expired  Home_Quarantine  New__(last_24_hrs)  \\\n",
       "0 2020-03-11           0        0                0                   3   \n",
       "1 2020-03-11           0        0                0                   6   \n",
       "2 2020-03-11           1        0                0                   1   \n",
       "3 2020-03-11           0        0                0                   0   \n",
       "5 2020-03-11           0        0                0                   4   \n",
       "\n",
       "        Region  Still_admitted  Tests__performed_in_last_24_hours  \n",
       "0          ICT               2                                  8  \n",
       "1       Punjab               0                                  7  \n",
       "2        Sindh              13                                 55  \n",
       "3           KP               0                                  2  \n",
       "5  Balochistan               1                                  4  "
      ]
     },
     "execution_count": 23,
     "metadata": {},
     "output_type": "execute_result"
    }
   ],
   "source": [
    "df1.head()"
   ]
  },
  {
   "cell_type": "code",
   "execution_count": 24,
   "metadata": {},
   "outputs": [
    {
     "data": {
      "text/plain": [
       "0              ICT\n",
       "1           Punjab\n",
       "2            Sindh\n",
       "3               KP\n",
       "5      Balochistan\n",
       "          ...     \n",
       "358             GB\n",
       "359            ICT\n",
       "360             KP\n",
       "361         Punjab\n",
       "362          Sindh\n",
       "Name: Region, Length: 350, dtype: object"
      ]
     },
     "execution_count": 24,
     "metadata": {},
     "output_type": "execute_result"
    }
   ],
   "source": [
    "df1.Region"
   ]
  },
  {
   "cell_type": "code",
   "execution_count": 25,
   "metadata": {},
   "outputs": [],
   "source": [
    "#df1.to_excel(r'',sheet_name='')"
   ]
  },
  {
   "cell_type": "code",
   "execution_count": 26,
   "metadata": {},
   "outputs": [
    {
     "data": {
      "text/html": [
       "<div>\n",
       "<style scoped>\n",
       "    .dataframe tbody tr th:only-of-type {\n",
       "        vertical-align: middle;\n",
       "    }\n",
       "\n",
       "    .dataframe tbody tr th {\n",
       "        vertical-align: top;\n",
       "    }\n",
       "\n",
       "    .dataframe thead th {\n",
       "        text-align: right;\n",
       "    }\n",
       "</style>\n",
       "<table border=\"1\" class=\"dataframe\">\n",
       "  <thead>\n",
       "    <tr style=\"text-align: right;\">\n",
       "      <th></th>\n",
       "      <th>Date</th>\n",
       "      <th>Province Old</th>\n",
       "      <th>Suspected Cases Last Date</th>\n",
       "      <th>Suspected Cases Last 24 Hrs</th>\n",
       "      <th>Suspected Cases Cumulative</th>\n",
       "      <th>Lab Tests Last 24 Hrs</th>\n",
       "      <th>Lab Tests Cumulative</th>\n",
       "      <th>Confirmed Cases Last Date</th>\n",
       "      <th>Confirmed Cases Last 24 Hrs</th>\n",
       "      <th>Confirmed Cases Cumulative</th>\n",
       "      <th>...</th>\n",
       "      <th>Confirmed HW - Active Doctors</th>\n",
       "      <th>Confirmed HW - Active Nurses</th>\n",
       "      <th>Confirmed HW - Active Others</th>\n",
       "      <th>Confirmed HW - Active Total</th>\n",
       "      <th>Confirmed HW - Active Isolation</th>\n",
       "      <th>Confirmed HW - Active Hospital</th>\n",
       "      <th>Confirmed HW - Active Hospital Stable</th>\n",
       "      <th>Confirmed HW - Active Hospital Ventilator</th>\n",
       "      <th>Confirmed HW - Active Recovered</th>\n",
       "      <th>Confirmed HW - Active Deaths</th>\n",
       "    </tr>\n",
       "  </thead>\n",
       "  <tbody>\n",
       "    <tr>\n",
       "      <td>0</td>\n",
       "      <td>2020-04-04</td>\n",
       "      <td>AJK</td>\n",
       "      <td>322</td>\n",
       "      <td>21</td>\n",
       "      <td>343</td>\n",
       "      <td>21</td>\n",
       "      <td>343</td>\n",
       "      <td>9</td>\n",
       "      <td>2</td>\n",
       "      <td>11</td>\n",
       "      <td>...</td>\n",
       "      <td>0</td>\n",
       "      <td>0</td>\n",
       "      <td>0</td>\n",
       "      <td>0</td>\n",
       "      <td>0</td>\n",
       "      <td>0</td>\n",
       "      <td>0</td>\n",
       "      <td>0</td>\n",
       "      <td>0</td>\n",
       "      <td>0</td>\n",
       "    </tr>\n",
       "    <tr>\n",
       "      <td>1</td>\n",
       "      <td>2020-04-04</td>\n",
       "      <td>Balochistan</td>\n",
       "      <td>2171</td>\n",
       "      <td>230</td>\n",
       "      <td>2401</td>\n",
       "      <td>0</td>\n",
       "      <td>2401</td>\n",
       "      <td>169</td>\n",
       "      <td>6</td>\n",
       "      <td>175</td>\n",
       "      <td>...</td>\n",
       "      <td>0</td>\n",
       "      <td>0</td>\n",
       "      <td>0</td>\n",
       "      <td>0</td>\n",
       "      <td>0</td>\n",
       "      <td>0</td>\n",
       "      <td>0</td>\n",
       "      <td>0</td>\n",
       "      <td>0</td>\n",
       "      <td>0</td>\n",
       "    </tr>\n",
       "    <tr>\n",
       "      <td>2</td>\n",
       "      <td>2020-04-04</td>\n",
       "      <td>GB</td>\n",
       "      <td>961</td>\n",
       "      <td>2</td>\n",
       "      <td>963</td>\n",
       "      <td>844</td>\n",
       "      <td>860</td>\n",
       "      <td>190</td>\n",
       "      <td>3</td>\n",
       "      <td>193</td>\n",
       "      <td>...</td>\n",
       "      <td>0</td>\n",
       "      <td>0</td>\n",
       "      <td>0</td>\n",
       "      <td>0</td>\n",
       "      <td>0</td>\n",
       "      <td>0</td>\n",
       "      <td>0</td>\n",
       "      <td>0</td>\n",
       "      <td>0</td>\n",
       "      <td>0</td>\n",
       "    </tr>\n",
       "    <tr>\n",
       "      <td>3</td>\n",
       "      <td>2020-04-04</td>\n",
       "      <td>ICT</td>\n",
       "      <td>2395</td>\n",
       "      <td>174</td>\n",
       "      <td>2569</td>\n",
       "      <td>174</td>\n",
       "      <td>2569</td>\n",
       "      <td>68</td>\n",
       "      <td>7</td>\n",
       "      <td>75</td>\n",
       "      <td>...</td>\n",
       "      <td>0</td>\n",
       "      <td>0</td>\n",
       "      <td>0</td>\n",
       "      <td>0</td>\n",
       "      <td>0</td>\n",
       "      <td>0</td>\n",
       "      <td>0</td>\n",
       "      <td>0</td>\n",
       "      <td>0</td>\n",
       "      <td>0</td>\n",
       "    </tr>\n",
       "    <tr>\n",
       "      <td>4</td>\n",
       "      <td>2020-04-04</td>\n",
       "      <td>KP</td>\n",
       "      <td>1938</td>\n",
       "      <td>431</td>\n",
       "      <td>2369</td>\n",
       "      <td>181</td>\n",
       "      <td>1624</td>\n",
       "      <td>311</td>\n",
       "      <td>32</td>\n",
       "      <td>343</td>\n",
       "      <td>...</td>\n",
       "      <td>0</td>\n",
       "      <td>0</td>\n",
       "      <td>0</td>\n",
       "      <td>0</td>\n",
       "      <td>0</td>\n",
       "      <td>0</td>\n",
       "      <td>0</td>\n",
       "      <td>0</td>\n",
       "      <td>0</td>\n",
       "      <td>0</td>\n",
       "    </tr>\n",
       "  </tbody>\n",
       "</table>\n",
       "<p>5 rows × 52 columns</p>\n",
       "</div>"
      ],
      "text/plain": [
       "        Date Province Old  Suspected Cases Last Date  \\\n",
       "0 2020-04-04          AJK                        322   \n",
       "1 2020-04-04  Balochistan                       2171   \n",
       "2 2020-04-04           GB                        961   \n",
       "3 2020-04-04          ICT                       2395   \n",
       "4 2020-04-04           KP                       1938   \n",
       "\n",
       "   Suspected Cases Last 24 Hrs  Suspected Cases Cumulative  \\\n",
       "0                           21                         343   \n",
       "1                          230                        2401   \n",
       "2                            2                         963   \n",
       "3                          174                        2569   \n",
       "4                          431                        2369   \n",
       "\n",
       "   Lab Tests Last 24 Hrs  Lab Tests Cumulative  Confirmed Cases Last Date  \\\n",
       "0                     21                   343                          9   \n",
       "1                      0                  2401                        169   \n",
       "2                    844                   860                        190   \n",
       "3                    174                  2569                         68   \n",
       "4                    181                  1624                        311   \n",
       "\n",
       "   Confirmed Cases Last 24 Hrs  Confirmed Cases Cumulative  ...  \\\n",
       "0                            2                          11  ...   \n",
       "1                            6                         175  ...   \n",
       "2                            3                         193  ...   \n",
       "3                            7                          75  ...   \n",
       "4                           32                         343  ...   \n",
       "\n",
       "   Confirmed HW - Active Doctors  Confirmed HW - Active Nurses  \\\n",
       "0                              0                             0   \n",
       "1                              0                             0   \n",
       "2                              0                             0   \n",
       "3                              0                             0   \n",
       "4                              0                             0   \n",
       "\n",
       "   Confirmed HW - Active Others  Confirmed HW - Active Total  \\\n",
       "0                             0                            0   \n",
       "1                             0                            0   \n",
       "2                             0                            0   \n",
       "3                             0                            0   \n",
       "4                             0                            0   \n",
       "\n",
       "   Confirmed HW - Active Isolation  Confirmed HW - Active Hospital  \\\n",
       "0                                0                               0   \n",
       "1                                0                               0   \n",
       "2                                0                               0   \n",
       "3                                0                               0   \n",
       "4                                0                               0   \n",
       "\n",
       "   Confirmed HW - Active Hospital Stable  \\\n",
       "0                                      0   \n",
       "1                                      0   \n",
       "2                                      0   \n",
       "3                                      0   \n",
       "4                                      0   \n",
       "\n",
       "   Confirmed HW - Active Hospital Ventilator  Confirmed HW - Active Recovered  \\\n",
       "0                                          0                                0   \n",
       "1                                          0                                0   \n",
       "2                                          0                                0   \n",
       "3                                          0                                0   \n",
       "4                                          0                                0   \n",
       "\n",
       "   Confirmed HW - Active Deaths  \n",
       "0                             0  \n",
       "1                             0  \n",
       "2                             0  \n",
       "3                             0  \n",
       "4                             0  \n",
       "\n",
       "[5 rows x 52 columns]"
      ]
     },
     "execution_count": 26,
     "metadata": {},
     "output_type": "execute_result"
    }
   ],
   "source": [
    "df2=pd.read_excel(data,sheet_name=1)\n",
    "df2.head()"
   ]
  },
  {
   "cell_type": "code",
   "execution_count": 27,
   "metadata": {},
   "outputs": [
    {
     "data": {
      "text/plain": [
       "(154, 52)"
      ]
     },
     "execution_count": 27,
     "metadata": {},
     "output_type": "execute_result"
    }
   ],
   "source": [
    "df2.shape"
   ]
  },
  {
   "cell_type": "code",
   "execution_count": 28,
   "metadata": {},
   "outputs": [
    {
     "data": {
      "text/plain": [
       "Index(['Date', 'Province Old', 'Suspected Cases Last Date',\n",
       "       'Suspected Cases Last 24 Hrs', 'Suspected Cases Cumulative',\n",
       "       'Lab Tests Last 24 Hrs', 'Lab Tests Cumulative',\n",
       "       'Confirmed Cases Last Date', 'Confirmed Cases Last 24 Hrs',\n",
       "       'Confirmed Cases Cumulative', ' Deaths Last Date',\n",
       "       ' Deaths Last 24 Hrs', ' Deaths Cumulative', 'Transmission Total',\n",
       "       'Transmission Foreign - Iran', 'Transmission Foreign - Iran %',\n",
       "       'Transmission Foreign - Other', 'Transmission Foreign - Other %',\n",
       "       'Transmission Local - Tableegh', 'Transmission Local % - Tableegh',\n",
       "       'Transmission Local - Others', 'Transmission Local % - Others',\n",
       "       'Transmission Local', 'Transmission Local %', 'Total Hospitals',\n",
       "       'Beds for COVID', 'Total Admitted', 'Admitted Stable',\n",
       "       'Admitted Critical', 'Admitted Venilator', 'Home Quarantine',\n",
       "       'Recovered', 'Death', 'Quarantine Facilities', 'Last 24 Hrs Arrival',\n",
       "       'Last 24 Hrs (Location)', 'Last 24 Hrs Departure',\n",
       "       'Cumulative Quarantined', 'Number of Tests', 'Results Achieved',\n",
       "       'Test Positive Cases', 'Test Positive Cases %',\n",
       "       'Confirmed HW - Active Doctors', 'Confirmed HW - Active Nurses',\n",
       "       'Confirmed HW - Active Others', 'Confirmed HW - Active Total',\n",
       "       'Confirmed HW - Active Isolation', 'Confirmed HW - Active Hospital',\n",
       "       'Confirmed HW - Active Hospital Stable',\n",
       "       'Confirmed HW - Active Hospital Ventilator',\n",
       "       'Confirmed HW - Active Recovered', 'Confirmed HW - Active Deaths'],\n",
       "      dtype='object')"
      ]
     },
     "execution_count": 28,
     "metadata": {},
     "output_type": "execute_result"
    }
   ],
   "source": [
    "df2.columns"
   ]
  },
  {
   "cell_type": "code",
   "execution_count": 29,
   "metadata": {},
   "outputs": [
    {
     "data": {
      "text/plain": [
       "array(['AJK', 'Balochistan', 'GB', 'ICT', 'KP', 'Punjab', 'Sindh'],\n",
       "      dtype=object)"
      ]
     },
     "execution_count": 29,
     "metadata": {},
     "output_type": "execute_result"
    }
   ],
   "source": [
    "df2['Province Old'].unique()"
   ]
  },
  {
   "cell_type": "code",
   "execution_count": 30,
   "metadata": {},
   "outputs": [],
   "source": [
    "df2.columns=df2.columns.str.strip().str.replace(' ','_')"
   ]
  },
  {
   "cell_type": "code",
   "execution_count": 31,
   "metadata": {},
   "outputs": [
    {
     "data": {
      "text/html": [
       "<div>\n",
       "<style scoped>\n",
       "    .dataframe tbody tr th:only-of-type {\n",
       "        vertical-align: middle;\n",
       "    }\n",
       "\n",
       "    .dataframe tbody tr th {\n",
       "        vertical-align: top;\n",
       "    }\n",
       "\n",
       "    .dataframe thead th {\n",
       "        text-align: right;\n",
       "    }\n",
       "</style>\n",
       "<table border=\"1\" class=\"dataframe\">\n",
       "  <thead>\n",
       "    <tr style=\"text-align: right;\">\n",
       "      <th></th>\n",
       "      <th>Date</th>\n",
       "      <th>Province_Old</th>\n",
       "      <th>Suspected_Cases_Last_Date</th>\n",
       "      <th>Suspected_Cases_Last_24_Hrs</th>\n",
       "      <th>Suspected_Cases_Cumulative</th>\n",
       "      <th>Lab_Tests_Last_24_Hrs</th>\n",
       "      <th>Lab_Tests_Cumulative</th>\n",
       "      <th>Confirmed_Cases_Last_Date</th>\n",
       "      <th>Confirmed_Cases_Last_24_Hrs</th>\n",
       "      <th>Confirmed_Cases_Cumulative</th>\n",
       "      <th>...</th>\n",
       "      <th>Confirmed_HW_-_Active_Doctors</th>\n",
       "      <th>Confirmed_HW_-_Active_Nurses</th>\n",
       "      <th>Confirmed_HW_-_Active_Others</th>\n",
       "      <th>Confirmed_HW_-_Active_Total</th>\n",
       "      <th>Confirmed_HW_-_Active_Isolation</th>\n",
       "      <th>Confirmed_HW_-_Active_Hospital</th>\n",
       "      <th>Confirmed_HW_-_Active_Hospital_Stable</th>\n",
       "      <th>Confirmed_HW_-_Active_Hospital_Ventilator</th>\n",
       "      <th>Confirmed_HW_-_Active_Recovered</th>\n",
       "      <th>Confirmed_HW_-_Active_Deaths</th>\n",
       "    </tr>\n",
       "  </thead>\n",
       "  <tbody>\n",
       "    <tr>\n",
       "      <td>0</td>\n",
       "      <td>2020-04-04</td>\n",
       "      <td>AJK</td>\n",
       "      <td>322</td>\n",
       "      <td>21</td>\n",
       "      <td>343</td>\n",
       "      <td>21</td>\n",
       "      <td>343</td>\n",
       "      <td>9</td>\n",
       "      <td>2</td>\n",
       "      <td>11</td>\n",
       "      <td>...</td>\n",
       "      <td>0</td>\n",
       "      <td>0</td>\n",
       "      <td>0</td>\n",
       "      <td>0</td>\n",
       "      <td>0</td>\n",
       "      <td>0</td>\n",
       "      <td>0</td>\n",
       "      <td>0</td>\n",
       "      <td>0</td>\n",
       "      <td>0</td>\n",
       "    </tr>\n",
       "    <tr>\n",
       "      <td>1</td>\n",
       "      <td>2020-04-04</td>\n",
       "      <td>Balochistan</td>\n",
       "      <td>2171</td>\n",
       "      <td>230</td>\n",
       "      <td>2401</td>\n",
       "      <td>0</td>\n",
       "      <td>2401</td>\n",
       "      <td>169</td>\n",
       "      <td>6</td>\n",
       "      <td>175</td>\n",
       "      <td>...</td>\n",
       "      <td>0</td>\n",
       "      <td>0</td>\n",
       "      <td>0</td>\n",
       "      <td>0</td>\n",
       "      <td>0</td>\n",
       "      <td>0</td>\n",
       "      <td>0</td>\n",
       "      <td>0</td>\n",
       "      <td>0</td>\n",
       "      <td>0</td>\n",
       "    </tr>\n",
       "    <tr>\n",
       "      <td>2</td>\n",
       "      <td>2020-04-04</td>\n",
       "      <td>GB</td>\n",
       "      <td>961</td>\n",
       "      <td>2</td>\n",
       "      <td>963</td>\n",
       "      <td>844</td>\n",
       "      <td>860</td>\n",
       "      <td>190</td>\n",
       "      <td>3</td>\n",
       "      <td>193</td>\n",
       "      <td>...</td>\n",
       "      <td>0</td>\n",
       "      <td>0</td>\n",
       "      <td>0</td>\n",
       "      <td>0</td>\n",
       "      <td>0</td>\n",
       "      <td>0</td>\n",
       "      <td>0</td>\n",
       "      <td>0</td>\n",
       "      <td>0</td>\n",
       "      <td>0</td>\n",
       "    </tr>\n",
       "    <tr>\n",
       "      <td>3</td>\n",
       "      <td>2020-04-04</td>\n",
       "      <td>ICT</td>\n",
       "      <td>2395</td>\n",
       "      <td>174</td>\n",
       "      <td>2569</td>\n",
       "      <td>174</td>\n",
       "      <td>2569</td>\n",
       "      <td>68</td>\n",
       "      <td>7</td>\n",
       "      <td>75</td>\n",
       "      <td>...</td>\n",
       "      <td>0</td>\n",
       "      <td>0</td>\n",
       "      <td>0</td>\n",
       "      <td>0</td>\n",
       "      <td>0</td>\n",
       "      <td>0</td>\n",
       "      <td>0</td>\n",
       "      <td>0</td>\n",
       "      <td>0</td>\n",
       "      <td>0</td>\n",
       "    </tr>\n",
       "    <tr>\n",
       "      <td>4</td>\n",
       "      <td>2020-04-04</td>\n",
       "      <td>KP</td>\n",
       "      <td>1938</td>\n",
       "      <td>431</td>\n",
       "      <td>2369</td>\n",
       "      <td>181</td>\n",
       "      <td>1624</td>\n",
       "      <td>311</td>\n",
       "      <td>32</td>\n",
       "      <td>343</td>\n",
       "      <td>...</td>\n",
       "      <td>0</td>\n",
       "      <td>0</td>\n",
       "      <td>0</td>\n",
       "      <td>0</td>\n",
       "      <td>0</td>\n",
       "      <td>0</td>\n",
       "      <td>0</td>\n",
       "      <td>0</td>\n",
       "      <td>0</td>\n",
       "      <td>0</td>\n",
       "    </tr>\n",
       "  </tbody>\n",
       "</table>\n",
       "<p>5 rows × 52 columns</p>\n",
       "</div>"
      ],
      "text/plain": [
       "        Date Province_Old  Suspected_Cases_Last_Date  \\\n",
       "0 2020-04-04          AJK                        322   \n",
       "1 2020-04-04  Balochistan                       2171   \n",
       "2 2020-04-04           GB                        961   \n",
       "3 2020-04-04          ICT                       2395   \n",
       "4 2020-04-04           KP                       1938   \n",
       "\n",
       "   Suspected_Cases_Last_24_Hrs  Suspected_Cases_Cumulative  \\\n",
       "0                           21                         343   \n",
       "1                          230                        2401   \n",
       "2                            2                         963   \n",
       "3                          174                        2569   \n",
       "4                          431                        2369   \n",
       "\n",
       "   Lab_Tests_Last_24_Hrs  Lab_Tests_Cumulative  Confirmed_Cases_Last_Date  \\\n",
       "0                     21                   343                          9   \n",
       "1                      0                  2401                        169   \n",
       "2                    844                   860                        190   \n",
       "3                    174                  2569                         68   \n",
       "4                    181                  1624                        311   \n",
       "\n",
       "   Confirmed_Cases_Last_24_Hrs  Confirmed_Cases_Cumulative  ...  \\\n",
       "0                            2                          11  ...   \n",
       "1                            6                         175  ...   \n",
       "2                            3                         193  ...   \n",
       "3                            7                          75  ...   \n",
       "4                           32                         343  ...   \n",
       "\n",
       "   Confirmed_HW_-_Active_Doctors  Confirmed_HW_-_Active_Nurses  \\\n",
       "0                              0                             0   \n",
       "1                              0                             0   \n",
       "2                              0                             0   \n",
       "3                              0                             0   \n",
       "4                              0                             0   \n",
       "\n",
       "   Confirmed_HW_-_Active_Others  Confirmed_HW_-_Active_Total  \\\n",
       "0                             0                            0   \n",
       "1                             0                            0   \n",
       "2                             0                            0   \n",
       "3                             0                            0   \n",
       "4                             0                            0   \n",
       "\n",
       "   Confirmed_HW_-_Active_Isolation  Confirmed_HW_-_Active_Hospital  \\\n",
       "0                                0                               0   \n",
       "1                                0                               0   \n",
       "2                                0                               0   \n",
       "3                                0                               0   \n",
       "4                                0                               0   \n",
       "\n",
       "   Confirmed_HW_-_Active_Hospital_Stable  \\\n",
       "0                                      0   \n",
       "1                                      0   \n",
       "2                                      0   \n",
       "3                                      0   \n",
       "4                                      0   \n",
       "\n",
       "   Confirmed_HW_-_Active_Hospital_Ventilator  Confirmed_HW_-_Active_Recovered  \\\n",
       "0                                          0                                0   \n",
       "1                                          0                                0   \n",
       "2                                          0                                0   \n",
       "3                                          0                                0   \n",
       "4                                          0                                0   \n",
       "\n",
       "   Confirmed_HW_-_Active_Deaths  \n",
       "0                             0  \n",
       "1                             0  \n",
       "2                             0  \n",
       "3                             0  \n",
       "4                             0  \n",
       "\n",
       "[5 rows x 52 columns]"
      ]
     },
     "execution_count": 31,
     "metadata": {},
     "output_type": "execute_result"
    }
   ],
   "source": [
    "df2.head()"
   ]
  },
  {
   "cell_type": "code",
   "execution_count": 32,
   "metadata": {},
   "outputs": [
    {
     "name": "stdout",
     "output_type": "stream",
     "text": [
      "<class 'pandas.core.frame.DataFrame'>\n",
      "RangeIndex: 154 entries, 0 to 153\n",
      "Data columns (total 52 columns):\n",
      "Date                                         154 non-null datetime64[ns]\n",
      "Province_Old                                 154 non-null object\n",
      "Suspected_Cases_Last_Date                    154 non-null int64\n",
      "Suspected_Cases_Last_24_Hrs                  154 non-null int64\n",
      "Suspected_Cases_Cumulative                   154 non-null int64\n",
      "Lab_Tests_Last_24_Hrs                        154 non-null int64\n",
      "Lab_Tests_Cumulative                         154 non-null int64\n",
      "Confirmed_Cases_Last_Date                    154 non-null int64\n",
      "Confirmed_Cases_Last_24_Hrs                  154 non-null int64\n",
      "Confirmed_Cases_Cumulative                   154 non-null int64\n",
      "Deaths_Last_Date                             154 non-null int64\n",
      "Deaths_Last_24_Hrs                           154 non-null int64\n",
      "Deaths_Cumulative                            154 non-null int64\n",
      "Transmission_Total                           154 non-null int64\n",
      "Transmission_Foreign_-_Iran                  154 non-null int64\n",
      "Transmission_Foreign_-_Iran_%                154 non-null float64\n",
      "Transmission_Foreign_-_Other                 154 non-null int64\n",
      "Transmission_Foreign_-_Other_%               154 non-null float64\n",
      "Transmission_Local_-_Tableegh                154 non-null int64\n",
      "Transmission_Local_%_-_Tableegh              154 non-null float64\n",
      "Transmission_Local_-_Others                  154 non-null int64\n",
      "Transmission_Local_%_-_Others                154 non-null float64\n",
      "Transmission_Local                           154 non-null int64\n",
      "Transmission_Local_%                         154 non-null float64\n",
      "Total_Hospitals                              154 non-null int64\n",
      "Beds_for_COVID                               154 non-null int64\n",
      "Total_Admitted                               154 non-null int64\n",
      "Admitted_Stable                              154 non-null int64\n",
      "Admitted_Critical                            154 non-null int64\n",
      "Admitted_Venilator                           154 non-null int64\n",
      "Home_Quarantine                              154 non-null int64\n",
      "Recovered                                    154 non-null int64\n",
      "Death                                        154 non-null int64\n",
      "Quarantine_Facilities                        154 non-null int64\n",
      "Last_24_Hrs_Arrival                          154 non-null int64\n",
      "Last_24_Hrs_(Location)                       154 non-null int64\n",
      "Last_24_Hrs_Departure                        154 non-null int64\n",
      "Cumulative_Quarantined                       154 non-null int64\n",
      "Number_of_Tests                              154 non-null int64\n",
      "Results_Achieved                             154 non-null int64\n",
      "Test_Positive_Cases                          154 non-null int64\n",
      "Test_Positive_Cases_%                        154 non-null float64\n",
      "Confirmed_HW_-_Active_Doctors                154 non-null int64\n",
      "Confirmed_HW_-_Active_Nurses                 154 non-null int64\n",
      "Confirmed_HW_-_Active_Others                 154 non-null int64\n",
      "Confirmed_HW_-_Active_Total                  154 non-null int64\n",
      "Confirmed_HW_-_Active_Isolation              154 non-null int64\n",
      "Confirmed_HW_-_Active_Hospital               154 non-null int64\n",
      "Confirmed_HW_-_Active_Hospital_Stable        154 non-null int64\n",
      "Confirmed_HW_-_Active_Hospital_Ventilator    154 non-null int64\n",
      "Confirmed_HW_-_Active_Recovered              154 non-null int64\n",
      "Confirmed_HW_-_Active_Deaths                 154 non-null int64\n",
      "dtypes: datetime64[ns](1), float64(6), int64(44), object(1)\n",
      "memory usage: 62.7+ KB\n"
     ]
    }
   ],
   "source": [
    "df2.info()  "
   ]
  },
  {
   "cell_type": "code",
   "execution_count": 33,
   "metadata": {},
   "outputs": [
    {
     "data": {
      "text/plain": [
       "Date                                         0\n",
       "Province_Old                                 0\n",
       "Suspected_Cases_Last_Date                    0\n",
       "Suspected_Cases_Last_24_Hrs                  0\n",
       "Suspected_Cases_Cumulative                   0\n",
       "Lab_Tests_Last_24_Hrs                        0\n",
       "Lab_Tests_Cumulative                         0\n",
       "Confirmed_Cases_Last_Date                    0\n",
       "Confirmed_Cases_Last_24_Hrs                  0\n",
       "Confirmed_Cases_Cumulative                   0\n",
       "Deaths_Last_Date                             0\n",
       "Deaths_Last_24_Hrs                           0\n",
       "Deaths_Cumulative                            0\n",
       "Transmission_Total                           0\n",
       "Transmission_Foreign_-_Iran                  0\n",
       "Transmission_Foreign_-_Iran_%                0\n",
       "Transmission_Foreign_-_Other                 0\n",
       "Transmission_Foreign_-_Other_%               0\n",
       "Transmission_Local_-_Tableegh                0\n",
       "Transmission_Local_%_-_Tableegh              0\n",
       "Transmission_Local_-_Others                  0\n",
       "Transmission_Local_%_-_Others                0\n",
       "Transmission_Local                           0\n",
       "Transmission_Local_%                         0\n",
       "Total_Hospitals                              0\n",
       "Beds_for_COVID                               0\n",
       "Total_Admitted                               0\n",
       "Admitted_Stable                              0\n",
       "Admitted_Critical                            0\n",
       "Admitted_Venilator                           0\n",
       "Home_Quarantine                              0\n",
       "Recovered                                    0\n",
       "Death                                        0\n",
       "Quarantine_Facilities                        0\n",
       "Last_24_Hrs_Arrival                          0\n",
       "Last_24_Hrs_(Location)                       0\n",
       "Last_24_Hrs_Departure                        0\n",
       "Cumulative_Quarantined                       0\n",
       "Number_of_Tests                              0\n",
       "Results_Achieved                             0\n",
       "Test_Positive_Cases                          0\n",
       "Test_Positive_Cases_%                        0\n",
       "Confirmed_HW_-_Active_Doctors                0\n",
       "Confirmed_HW_-_Active_Nurses                 0\n",
       "Confirmed_HW_-_Active_Others                 0\n",
       "Confirmed_HW_-_Active_Total                  0\n",
       "Confirmed_HW_-_Active_Isolation              0\n",
       "Confirmed_HW_-_Active_Hospital               0\n",
       "Confirmed_HW_-_Active_Hospital_Stable        0\n",
       "Confirmed_HW_-_Active_Hospital_Ventilator    0\n",
       "Confirmed_HW_-_Active_Recovered              0\n",
       "Confirmed_HW_-_Active_Deaths                 0\n",
       "dtype: int64"
      ]
     },
     "execution_count": 33,
     "metadata": {},
     "output_type": "execute_result"
    }
   ],
   "source": [
    "df2.isnull().sum()"
   ]
  },
  {
   "cell_type": "code",
   "execution_count": 34,
   "metadata": {},
   "outputs": [
    {
     "data": {
      "text/plain": [
       "0"
      ]
     },
     "execution_count": 34,
     "metadata": {},
     "output_type": "execute_result"
    }
   ],
   "source": [
    "df2.duplicated().sum()"
   ]
  },
  {
   "cell_type": "code",
   "execution_count": 35,
   "metadata": {},
   "outputs": [
    {
     "data": {
      "text/plain": [
       "Date                                           0\n",
       "Province_Old                                   0\n",
       "Suspected_Cases_Last_Date                      0\n",
       "Suspected_Cases_Last_24_Hrs                    0\n",
       "Suspected_Cases_Cumulative                     0\n",
       "Lab_Tests_Last_24_Hrs                          1\n",
       "Lab_Tests_Cumulative                           0\n",
       "Confirmed_Cases_Last_Date                      0\n",
       "Confirmed_Cases_Last_24_Hrs                    8\n",
       "Confirmed_Cases_Cumulative                     0\n",
       "Deaths_Last_Date                              26\n",
       "Deaths_Last_24_Hrs                            81\n",
       "Deaths_Cumulative                             25\n",
       "Transmission_Total                             0\n",
       "Transmission_Foreign_-_Iran                   22\n",
       "Transmission_Foreign_-_Iran_%                 22\n",
       "Transmission_Foreign_-_Other                   0\n",
       "Transmission_Foreign_-_Other_%                 6\n",
       "Transmission_Local_-_Tableegh                 24\n",
       "Transmission_Local_%_-_Tableegh               24\n",
       "Transmission_Local_-_Others                   24\n",
       "Transmission_Local_%_-_Others                 24\n",
       "Transmission_Local                             0\n",
       "Transmission_Local_%                           0\n",
       "Total_Hospitals                                0\n",
       "Beds_for_COVID                                 0\n",
       "Total_Admitted                                 0\n",
       "Admitted_Stable                                0\n",
       "Admitted_Critical                             62\n",
       "Admitted_Venilator                           148\n",
       "Home_Quarantine                               22\n",
       "Recovered                                      1\n",
       "Death                                         25\n",
       "Quarantine_Facilities                          0\n",
       "Last_24_Hrs_Arrival                           77\n",
       "Last_24_Hrs_(Location)                       154\n",
       "Last_24_Hrs_Departure                         61\n",
       "Cumulative_Quarantined                         2\n",
       "Number_of_Tests                                8\n",
       "Results_Achieved                               1\n",
       "Test_Positive_Cases                            1\n",
       "Test_Positive_Cases_%                          1\n",
       "Confirmed_HW_-_Active_Doctors                126\n",
       "Confirmed_HW_-_Active_Nurses                 134\n",
       "Confirmed_HW_-_Active_Others                 126\n",
       "Confirmed_HW_-_Active_Total                  126\n",
       "Confirmed_HW_-_Active_Isolation              138\n",
       "Confirmed_HW_-_Active_Hospital               131\n",
       "Confirmed_HW_-_Active_Hospital_Stable        131\n",
       "Confirmed_HW_-_Active_Hospital_Ventilator    151\n",
       "Confirmed_HW_-_Active_Recovered              127\n",
       "Confirmed_HW_-_Active_Deaths                 144\n",
       "dtype: int64"
      ]
     },
     "execution_count": 35,
     "metadata": {},
     "output_type": "execute_result"
    }
   ],
   "source": [
    "df2.isin([0]).sum()"
   ]
  },
  {
   "cell_type": "code",
   "execution_count": 36,
   "metadata": {},
   "outputs": [],
   "source": [
    "cols=np.where(((df2.isin([0]).sum())>=(len(df2)/2))==True)"
   ]
  },
  {
   "cell_type": "code",
   "execution_count": 37,
   "metadata": {},
   "outputs": [],
   "source": [
    "df2.drop(df2.columns[cols],axis=1,inplace=True)"
   ]
  },
  {
   "cell_type": "code",
   "execution_count": 38,
   "metadata": {},
   "outputs": [
    {
     "name": "stdout",
     "output_type": "stream",
     "text": [
      "<class 'pandas.core.frame.DataFrame'>\n",
      "RangeIndex: 154 entries, 0 to 153\n",
      "Data columns (total 38 columns):\n",
      "Date                               154 non-null datetime64[ns]\n",
      "Province_Old                       154 non-null object\n",
      "Suspected_Cases_Last_Date          154 non-null int64\n",
      "Suspected_Cases_Last_24_Hrs        154 non-null int64\n",
      "Suspected_Cases_Cumulative         154 non-null int64\n",
      "Lab_Tests_Last_24_Hrs              154 non-null int64\n",
      "Lab_Tests_Cumulative               154 non-null int64\n",
      "Confirmed_Cases_Last_Date          154 non-null int64\n",
      "Confirmed_Cases_Last_24_Hrs        154 non-null int64\n",
      "Confirmed_Cases_Cumulative         154 non-null int64\n",
      "Deaths_Last_Date                   154 non-null int64\n",
      "Deaths_Cumulative                  154 non-null int64\n",
      "Transmission_Total                 154 non-null int64\n",
      "Transmission_Foreign_-_Iran        154 non-null int64\n",
      "Transmission_Foreign_-_Iran_%      154 non-null float64\n",
      "Transmission_Foreign_-_Other       154 non-null int64\n",
      "Transmission_Foreign_-_Other_%     154 non-null float64\n",
      "Transmission_Local_-_Tableegh      154 non-null int64\n",
      "Transmission_Local_%_-_Tableegh    154 non-null float64\n",
      "Transmission_Local_-_Others        154 non-null int64\n",
      "Transmission_Local_%_-_Others      154 non-null float64\n",
      "Transmission_Local                 154 non-null int64\n",
      "Transmission_Local_%               154 non-null float64\n",
      "Total_Hospitals                    154 non-null int64\n",
      "Beds_for_COVID                     154 non-null int64\n",
      "Total_Admitted                     154 non-null int64\n",
      "Admitted_Stable                    154 non-null int64\n",
      "Admitted_Critical                  154 non-null int64\n",
      "Home_Quarantine                    154 non-null int64\n",
      "Recovered                          154 non-null int64\n",
      "Death                              154 non-null int64\n",
      "Quarantine_Facilities              154 non-null int64\n",
      "Last_24_Hrs_Departure              154 non-null int64\n",
      "Cumulative_Quarantined             154 non-null int64\n",
      "Number_of_Tests                    154 non-null int64\n",
      "Results_Achieved                   154 non-null int64\n",
      "Test_Positive_Cases                154 non-null int64\n",
      "Test_Positive_Cases_%              154 non-null float64\n",
      "dtypes: datetime64[ns](1), float64(6), int64(30), object(1)\n",
      "memory usage: 45.8+ KB\n"
     ]
    }
   ],
   "source": [
    "df2.info()"
   ]
  },
  {
   "cell_type": "code",
   "execution_count": 39,
   "metadata": {},
   "outputs": [
    {
     "data": {
      "text/html": [
       "<div>\n",
       "<style scoped>\n",
       "    .dataframe tbody tr th:only-of-type {\n",
       "        vertical-align: middle;\n",
       "    }\n",
       "\n",
       "    .dataframe tbody tr th {\n",
       "        vertical-align: top;\n",
       "    }\n",
       "\n",
       "    .dataframe thead th {\n",
       "        text-align: right;\n",
       "    }\n",
       "</style>\n",
       "<table border=\"1\" class=\"dataframe\">\n",
       "  <thead>\n",
       "    <tr style=\"text-align: right;\">\n",
       "      <th></th>\n",
       "      <th>Date</th>\n",
       "      <th>Cumulative travelers Screened</th>\n",
       "      <th>Suspected at Points of Entry</th>\n",
       "      <th>Travelers Screened at Points ofEntry in last 24 hours</th>\n",
       "    </tr>\n",
       "  </thead>\n",
       "  <tbody>\n",
       "    <tr>\n",
       "      <td>0</td>\n",
       "      <td>11-Mar-2020</td>\n",
       "      <td>873288</td>\n",
       "      <td>26</td>\n",
       "      <td>21102</td>\n",
       "    </tr>\n",
       "    <tr>\n",
       "      <td>1</td>\n",
       "      <td>12-Mar-2020</td>\n",
       "      <td>894256</td>\n",
       "      <td>29</td>\n",
       "      <td>20968</td>\n",
       "    </tr>\n",
       "    <tr>\n",
       "      <td>2</td>\n",
       "      <td>13-Mar-2020</td>\n",
       "      <td>913542</td>\n",
       "      <td>33</td>\n",
       "      <td>19286</td>\n",
       "    </tr>\n",
       "    <tr>\n",
       "      <td>3</td>\n",
       "      <td>14-Mar-2020</td>\n",
       "      <td>933970</td>\n",
       "      <td>43</td>\n",
       "      <td>20428</td>\n",
       "    </tr>\n",
       "    <tr>\n",
       "      <td>4</td>\n",
       "      <td>15-Mar-2020</td>\n",
       "      <td>954646</td>\n",
       "      <td>59</td>\n",
       "      <td>20676</td>\n",
       "    </tr>\n",
       "  </tbody>\n",
       "</table>\n",
       "</div>"
      ],
      "text/plain": [
       "          Date  Cumulative travelers Screened  Suspected at Points of Entry  \\\n",
       "0  11-Mar-2020                         873288                            26   \n",
       "1  12-Mar-2020                         894256                            29   \n",
       "2  13-Mar-2020                         913542                            33   \n",
       "3  14-Mar-2020                         933970                            43   \n",
       "4  15-Mar-2020                         954646                            59   \n",
       "\n",
       "   Travelers Screened at Points ofEntry in last 24 hours  \n",
       "0                                              21102      \n",
       "1                                              20968      \n",
       "2                                              19286      \n",
       "3                                              20428      \n",
       "4                                              20676      "
      ]
     },
     "execution_count": 39,
     "metadata": {},
     "output_type": "execute_result"
    }
   ],
   "source": [
    "df3=pd.read_excel(data,sheet_name=2)\n",
    "df3.head()"
   ]
  },
  {
   "cell_type": "code",
   "execution_count": 40,
   "metadata": {},
   "outputs": [
    {
     "data": {
      "text/plain": [
       "(24, 4)"
      ]
     },
     "execution_count": 40,
     "metadata": {},
     "output_type": "execute_result"
    }
   ],
   "source": [
    "df3.shape"
   ]
  },
  {
   "cell_type": "code",
   "execution_count": 41,
   "metadata": {},
   "outputs": [
    {
     "name": "stdout",
     "output_type": "stream",
     "text": [
      "<class 'pandas.core.frame.DataFrame'>\n",
      "RangeIndex: 24 entries, 0 to 23\n",
      "Data columns (total 4 columns):\n",
      "Date                                                     24 non-null object\n",
      "Cumulative travelers Screened                            24 non-null int64\n",
      "Suspected at Points of Entry                             24 non-null int64\n",
      "Travelers Screened at Points ofEntry in last 24 hours    24 non-null int64\n",
      "dtypes: int64(3), object(1)\n",
      "memory usage: 896.0+ bytes\n"
     ]
    }
   ],
   "source": [
    "df3.info()"
   ]
  },
  {
   "cell_type": "code",
   "execution_count": 42,
   "metadata": {},
   "outputs": [],
   "source": [
    "df3.columns=df3.columns.str.strip().str.replace(' ','_')"
   ]
  },
  {
   "cell_type": "code",
   "execution_count": 43,
   "metadata": {},
   "outputs": [
    {
     "name": "stdout",
     "output_type": "stream",
     "text": [
      "<class 'pandas.core.frame.DataFrame'>\n",
      "RangeIndex: 24 entries, 0 to 23\n",
      "Data columns (total 4 columns):\n",
      "Date                                                     24 non-null datetime64[ns]\n",
      "Cumulative_travelers_Screened                            24 non-null int64\n",
      "Suspected_at_Points_of_Entry                             24 non-null int64\n",
      "Travelers_Screened_at_Points_ofEntry_in_last_24_hours    24 non-null int64\n",
      "dtypes: datetime64[ns](1), int64(3)\n",
      "memory usage: 896.0 bytes\n"
     ]
    }
   ],
   "source": [
    "df3['Date']=pd.to_datetime(df3['Date'])\n",
    "df3.info()"
   ]
  },
  {
   "cell_type": "code",
   "execution_count": 44,
   "metadata": {},
   "outputs": [
    {
     "data": {
      "text/plain": [
       "Date                                                     0\n",
       "Cumulative_travelers_Screened                            0\n",
       "Suspected_at_Points_of_Entry                             0\n",
       "Travelers_Screened_at_Points_ofEntry_in_last_24_hours    0\n",
       "dtype: int64"
      ]
     },
     "execution_count": 44,
     "metadata": {},
     "output_type": "execute_result"
    }
   ],
   "source": [
    "df3.isnull().sum()"
   ]
  },
  {
   "cell_type": "code",
   "execution_count": 45,
   "metadata": {},
   "outputs": [
    {
     "data": {
      "text/plain": [
       "0"
      ]
     },
     "execution_count": 45,
     "metadata": {},
     "output_type": "execute_result"
    }
   ],
   "source": [
    "df3.duplicated().sum()"
   ]
  },
  {
   "cell_type": "code",
   "execution_count": 46,
   "metadata": {},
   "outputs": [
    {
     "data": {
      "text/plain": [
       "Date                                                     0\n",
       "Cumulative_travelers_Screened                            0\n",
       "Suspected_at_Points_of_Entry                             0\n",
       "Travelers_Screened_at_Points_ofEntry_in_last_24_hours    0\n",
       "dtype: int64"
      ]
     },
     "execution_count": 46,
     "metadata": {},
     "output_type": "execute_result"
    }
   ],
   "source": [
    "df3.isin(['.','?','na','NA','N/A',np.nan,'No 0']).sum()"
   ]
  },
  {
   "cell_type": "code",
   "execution_count": 47,
   "metadata": {},
   "outputs": [
    {
     "data": {
      "text/html": [
       "<div>\n",
       "<style scoped>\n",
       "    .dataframe tbody tr th:only-of-type {\n",
       "        vertical-align: middle;\n",
       "    }\n",
       "\n",
       "    .dataframe tbody tr th {\n",
       "        vertical-align: top;\n",
       "    }\n",
       "\n",
       "    .dataframe thead th {\n",
       "        text-align: right;\n",
       "    }\n",
       "</style>\n",
       "<table border=\"1\" class=\"dataframe\">\n",
       "  <thead>\n",
       "    <tr style=\"text-align: right;\">\n",
       "      <th></th>\n",
       "      <th>Returnees</th>\n",
       "      <th>Advised Self-Quarantine</th>\n",
       "      <th>Cumulative no offirst-time calls</th>\n",
       "      <th>Cumulativefollow-up calls</th>\n",
       "      <th>Date</th>\n",
       "      <th>First-time calls inpast 24 hrs</th>\n",
       "      <th>Follow-up calls inpast 24 hrs</th>\n",
       "    </tr>\n",
       "  </thead>\n",
       "  <tbody>\n",
       "    <tr>\n",
       "      <td>0</td>\n",
       "      <td>Returnees from Iran</td>\n",
       "      <td>0</td>\n",
       "      <td>9459</td>\n",
       "      <td>2553</td>\n",
       "      <td>11-Mar-2020</td>\n",
       "      <td>0</td>\n",
       "      <td>353</td>\n",
       "    </tr>\n",
       "    <tr>\n",
       "      <td>1</td>\n",
       "      <td>Returnees from China</td>\n",
       "      <td>11</td>\n",
       "      <td>5342</td>\n",
       "      <td>7746</td>\n",
       "      <td>11-Mar-2020</td>\n",
       "      <td>17</td>\n",
       "      <td>400</td>\n",
       "    </tr>\n",
       "    <tr>\n",
       "      <td>2</td>\n",
       "      <td>Returnees from Iran</td>\n",
       "      <td>14</td>\n",
       "      <td>9475</td>\n",
       "      <td>3221</td>\n",
       "      <td>12-Mar-2020</td>\n",
       "      <td>16</td>\n",
       "      <td>668</td>\n",
       "    </tr>\n",
       "    <tr>\n",
       "      <td>3</td>\n",
       "      <td>Returnees from China</td>\n",
       "      <td>7</td>\n",
       "      <td>5352</td>\n",
       "      <td>7855</td>\n",
       "      <td>12-Mar-2020</td>\n",
       "      <td>10</td>\n",
       "      <td>109</td>\n",
       "    </tr>\n",
       "    <tr>\n",
       "      <td>4</td>\n",
       "      <td>Returnees from Iran</td>\n",
       "      <td>0</td>\n",
       "      <td>9475</td>\n",
       "      <td>3853</td>\n",
       "      <td>13-Mar-2020</td>\n",
       "      <td>0</td>\n",
       "      <td>632</td>\n",
       "    </tr>\n",
       "  </tbody>\n",
       "</table>\n",
       "</div>"
      ],
      "text/plain": [
       "              Returnees  Advised Self-Quarantine  \\\n",
       "0   Returnees from Iran                        0   \n",
       "1  Returnees from China                       11   \n",
       "2   Returnees from Iran                       14   \n",
       "3  Returnees from China                        7   \n",
       "4   Returnees from Iran                        0   \n",
       "\n",
       "   Cumulative no offirst-time calls  Cumulativefollow-up calls         Date  \\\n",
       "0                              9459                       2553  11-Mar-2020   \n",
       "1                              5342                       7746  11-Mar-2020   \n",
       "2                              9475                       3221  12-Mar-2020   \n",
       "3                              5352                       7855  12-Mar-2020   \n",
       "4                              9475                       3853  13-Mar-2020   \n",
       "\n",
       "   First-time calls inpast 24 hrs  Follow-up calls inpast 24 hrs  \n",
       "0                               0                            353  \n",
       "1                              17                            400  \n",
       "2                              16                            668  \n",
       "3                              10                            109  \n",
       "4                               0                            632  "
      ]
     },
     "execution_count": 47,
     "metadata": {},
     "output_type": "execute_result"
    }
   ],
   "source": [
    "df4=pd.read_excel(data,sheet_name=3)\n",
    "df4.head()"
   ]
  },
  {
   "cell_type": "code",
   "execution_count": 48,
   "metadata": {},
   "outputs": [
    {
     "data": {
      "text/plain": [
       "(40, 7)"
      ]
     },
     "execution_count": 48,
     "metadata": {},
     "output_type": "execute_result"
    }
   ],
   "source": [
    "df4.shape"
   ]
  },
  {
   "cell_type": "code",
   "execution_count": 49,
   "metadata": {},
   "outputs": [
    {
     "name": "stdout",
     "output_type": "stream",
     "text": [
      "<class 'pandas.core.frame.DataFrame'>\n",
      "RangeIndex: 40 entries, 0 to 39\n",
      "Data columns (total 7 columns):\n",
      "Returnees                           40 non-null object\n",
      "Advised Self-Quarantine             40 non-null int64\n",
      "Cumulative no offirst-time calls    40 non-null int64\n",
      "Cumulativefollow-up calls           40 non-null int64\n",
      "Date                                40 non-null object\n",
      "First-time calls inpast 24 hrs      40 non-null int64\n",
      "Follow-up calls inpast 24 hrs       40 non-null int64\n",
      "dtypes: int64(5), object(2)\n",
      "memory usage: 2.3+ KB\n"
     ]
    }
   ],
   "source": [
    "df4.info()"
   ]
  },
  {
   "cell_type": "code",
   "execution_count": 50,
   "metadata": {},
   "outputs": [],
   "source": [
    "df4['Date']=pd.to_datetime(df4['Date'])"
   ]
  },
  {
   "cell_type": "code",
   "execution_count": 51,
   "metadata": {},
   "outputs": [
    {
     "name": "stdout",
     "output_type": "stream",
     "text": [
      "<class 'pandas.core.frame.DataFrame'>\n",
      "RangeIndex: 40 entries, 0 to 39\n",
      "Data columns (total 7 columns):\n",
      "Returnees                           40 non-null object\n",
      "Advised Self-Quarantine             40 non-null int64\n",
      "Cumulative no offirst-time calls    40 non-null int64\n",
      "Cumulativefollow-up calls           40 non-null int64\n",
      "Date                                40 non-null datetime64[ns]\n",
      "First-time calls inpast 24 hrs      40 non-null int64\n",
      "Follow-up calls inpast 24 hrs       40 non-null int64\n",
      "dtypes: datetime64[ns](1), int64(5), object(1)\n",
      "memory usage: 2.3+ KB\n"
     ]
    }
   ],
   "source": [
    "df4.info()"
   ]
  },
  {
   "cell_type": "code",
   "execution_count": 52,
   "metadata": {},
   "outputs": [
    {
     "data": {
      "text/plain": [
       "Returnees                           0\n",
       "Advised Self-Quarantine             0\n",
       "Cumulative no offirst-time calls    0\n",
       "Cumulativefollow-up calls           0\n",
       "Date                                0\n",
       "First-time calls inpast 24 hrs      0\n",
       "Follow-up calls inpast 24 hrs       0\n",
       "dtype: int64"
      ]
     },
     "execution_count": 52,
     "metadata": {},
     "output_type": "execute_result"
    }
   ],
   "source": [
    "df4.isnull().sum()"
   ]
  },
  {
   "cell_type": "code",
   "execution_count": 53,
   "metadata": {},
   "outputs": [
    {
     "data": {
      "text/plain": [
       "Returnees                           0\n",
       "Advised Self-Quarantine             0\n",
       "Cumulative no offirst-time calls    0\n",
       "Cumulativefollow-up calls           0\n",
       "Date                                0\n",
       "First-time calls inpast 24 hrs      0\n",
       "Follow-up calls inpast 24 hrs       0\n",
       "dtype: int64"
      ]
     },
     "execution_count": 53,
     "metadata": {},
     "output_type": "execute_result"
    }
   ],
   "source": [
    "df4.isin(['.','?','na','NA','N/A',np.nan,'No 0']).sum()"
   ]
  },
  {
   "cell_type": "code",
   "execution_count": 54,
   "metadata": {},
   "outputs": [
    {
     "data": {
      "text/html": [
       "<div>\n",
       "<style scoped>\n",
       "    .dataframe tbody tr th:only-of-type {\n",
       "        vertical-align: middle;\n",
       "    }\n",
       "\n",
       "    .dataframe tbody tr th {\n",
       "        vertical-align: top;\n",
       "    }\n",
       "\n",
       "    .dataframe thead th {\n",
       "        text-align: right;\n",
       "    }\n",
       "</style>\n",
       "<table border=\"1\" class=\"dataframe\">\n",
       "  <thead>\n",
       "    <tr style=\"text-align: right;\">\n",
       "      <th></th>\n",
       "      <th>Unnamed: 0</th>\n",
       "      <th>Date</th>\n",
       "      <th>News</th>\n",
       "      <th>Agg News</th>\n",
       "    </tr>\n",
       "  </thead>\n",
       "  <tbody>\n",
       "    <tr>\n",
       "      <td>0</td>\n",
       "      <td>0</td>\n",
       "      <td>11-Mar-2020</td>\n",
       "      <td>Updates: Pakistan:</td>\n",
       "      <td>Updates: Pakistan: \\n Three new cases have bee...</td>\n",
       "    </tr>\n",
       "    <tr>\n",
       "      <td>1</td>\n",
       "      <td>1</td>\n",
       "      <td>11-Mar-2020</td>\n",
       "      <td>Three new cases have been confirmed in the pas...</td>\n",
       "      <td>Updates: Pakistan: \\n Three new cases have bee...</td>\n",
       "    </tr>\n",
       "    <tr>\n",
       "      <td>2</td>\n",
       "      <td>2</td>\n",
       "      <td>11-Mar-2020</td>\n",
       "      <td>Number of calls to passengers returning from I...</td>\n",
       "      <td>Updates: Pakistan: \\n Three new cases have bee...</td>\n",
       "    </tr>\n",
       "    <tr>\n",
       "      <td>3</td>\n",
       "      <td>3</td>\n",
       "      <td>11-Mar-2020</td>\n",
       "      <td>Global:</td>\n",
       "      <td>Updates: Pakistan: \\n Three new cases have bee...</td>\n",
       "    </tr>\n",
       "    <tr>\n",
       "      <td>4</td>\n",
       "      <td>4</td>\n",
       "      <td>11-Mar-2020</td>\n",
       "      <td>Total cases: 118,887,  Total Deaths: 4,290 •</td>\n",
       "      <td>Updates: Pakistan: \\n Three new cases have bee...</td>\n",
       "    </tr>\n",
       "  </tbody>\n",
       "</table>\n",
       "</div>"
      ],
      "text/plain": [
       "   Unnamed: 0         Date                                               News  \\\n",
       "0           0  11-Mar-2020                                 Updates: Pakistan:   \n",
       "1           1  11-Mar-2020  Three new cases have been confirmed in the pas...   \n",
       "2           2  11-Mar-2020  Number of calls to passengers returning from I...   \n",
       "3           3  11-Mar-2020                                            Global:   \n",
       "4           4  11-Mar-2020       Total cases: 118,887,  Total Deaths: 4,290 •   \n",
       "\n",
       "                                            Agg News  \n",
       "0  Updates: Pakistan: \\n Three new cases have bee...  \n",
       "1  Updates: Pakistan: \\n Three new cases have bee...  \n",
       "2  Updates: Pakistan: \\n Three new cases have bee...  \n",
       "3  Updates: Pakistan: \\n Three new cases have bee...  \n",
       "4  Updates: Pakistan: \\n Three new cases have bee...  "
      ]
     },
     "execution_count": 54,
     "metadata": {},
     "output_type": "execute_result"
    }
   ],
   "source": [
    "df5=pd.read_excel(data,sheet_name=4)\n",
    "df5.head()"
   ]
  },
  {
   "cell_type": "code",
   "execution_count": 55,
   "metadata": {},
   "outputs": [
    {
     "data": {
      "text/html": [
       "<div>\n",
       "<style scoped>\n",
       "    .dataframe tbody tr th:only-of-type {\n",
       "        vertical-align: middle;\n",
       "    }\n",
       "\n",
       "    .dataframe tbody tr th {\n",
       "        vertical-align: top;\n",
       "    }\n",
       "\n",
       "    .dataframe thead th {\n",
       "        text-align: right;\n",
       "    }\n",
       "</style>\n",
       "<table border=\"1\" class=\"dataframe\">\n",
       "  <thead>\n",
       "    <tr style=\"text-align: right;\">\n",
       "      <th></th>\n",
       "      <th>Date</th>\n",
       "      <th>News</th>\n",
       "      <th>Agg News</th>\n",
       "    </tr>\n",
       "  </thead>\n",
       "  <tbody>\n",
       "    <tr>\n",
       "      <td>0</td>\n",
       "      <td>11-Mar-2020</td>\n",
       "      <td>Updates: Pakistan:</td>\n",
       "      <td>Updates: Pakistan: \\n Three new cases have bee...</td>\n",
       "    </tr>\n",
       "    <tr>\n",
       "      <td>1</td>\n",
       "      <td>11-Mar-2020</td>\n",
       "      <td>Three new cases have been confirmed in the pas...</td>\n",
       "      <td>Updates: Pakistan: \\n Three new cases have bee...</td>\n",
       "    </tr>\n",
       "    <tr>\n",
       "      <td>2</td>\n",
       "      <td>11-Mar-2020</td>\n",
       "      <td>Number of calls to passengers returning from I...</td>\n",
       "      <td>Updates: Pakistan: \\n Three new cases have bee...</td>\n",
       "    </tr>\n",
       "    <tr>\n",
       "      <td>3</td>\n",
       "      <td>11-Mar-2020</td>\n",
       "      <td>Global:</td>\n",
       "      <td>Updates: Pakistan: \\n Three new cases have bee...</td>\n",
       "    </tr>\n",
       "    <tr>\n",
       "      <td>4</td>\n",
       "      <td>11-Mar-2020</td>\n",
       "      <td>Total cases: 118,887,  Total Deaths: 4,290 •</td>\n",
       "      <td>Updates: Pakistan: \\n Three new cases have bee...</td>\n",
       "    </tr>\n",
       "  </tbody>\n",
       "</table>\n",
       "</div>"
      ],
      "text/plain": [
       "          Date                                               News  \\\n",
       "0  11-Mar-2020                                 Updates: Pakistan:   \n",
       "1  11-Mar-2020  Three new cases have been confirmed in the pas...   \n",
       "2  11-Mar-2020  Number of calls to passengers returning from I...   \n",
       "3  11-Mar-2020                                            Global:   \n",
       "4  11-Mar-2020       Total cases: 118,887,  Total Deaths: 4,290 •   \n",
       "\n",
       "                                            Agg News  \n",
       "0  Updates: Pakistan: \\n Three new cases have bee...  \n",
       "1  Updates: Pakistan: \\n Three new cases have bee...  \n",
       "2  Updates: Pakistan: \\n Three new cases have bee...  \n",
       "3  Updates: Pakistan: \\n Three new cases have bee...  \n",
       "4  Updates: Pakistan: \\n Three new cases have bee...  "
      ]
     },
     "execution_count": 55,
     "metadata": {},
     "output_type": "execute_result"
    }
   ],
   "source": [
    "df5.drop('Unnamed: 0',axis=1,inplace=True)               #droping unnamed column keeping default indexing\n",
    "df5.head()"
   ]
  },
  {
   "cell_type": "code",
   "execution_count": 56,
   "metadata": {},
   "outputs": [
    {
     "name": "stdout",
     "output_type": "stream",
     "text": [
      "<class 'pandas.core.frame.DataFrame'>\n",
      "RangeIndex: 146 entries, 0 to 145\n",
      "Data columns (total 3 columns):\n",
      "Date        146 non-null datetime64[ns]\n",
      "News        146 non-null object\n",
      "Agg News    146 non-null object\n",
      "dtypes: datetime64[ns](1), object(2)\n",
      "memory usage: 3.5+ KB\n"
     ]
    }
   ],
   "source": [
    "df5['Date']=pd.to_datetime(df5['Date'])\n",
    "df5.info()"
   ]
  },
  {
   "cell_type": "code",
   "execution_count": 57,
   "metadata": {},
   "outputs": [
    {
     "data": {
      "text/plain": [
       "Date        0\n",
       "News        0\n",
       "Agg News    0\n",
       "dtype: int64"
      ]
     },
     "execution_count": 57,
     "metadata": {},
     "output_type": "execute_result"
    }
   ],
   "source": [
    "df5.isnull().sum()"
   ]
  },
  {
   "cell_type": "code",
   "execution_count": 58,
   "metadata": {},
   "outputs": [
    {
     "name": "stdout",
     "output_type": "stream",
     "text": [
      "0\n"
     ]
    },
    {
     "data": {
      "text/plain": [
       "Date        0\n",
       "News        0\n",
       "Agg News    0\n",
       "dtype: int64"
      ]
     },
     "execution_count": 58,
     "metadata": {},
     "output_type": "execute_result"
    }
   ],
   "source": [
    "print(df5.duplicated().sum())\n",
    "df5.isin(['.','?','na','NA','N/A',np.nan,'No 0']).sum()"
   ]
  },
  {
   "cell_type": "code",
   "execution_count": 59,
   "metadata": {},
   "outputs": [
    {
     "data": {
      "text/html": [
       "<div>\n",
       "<style scoped>\n",
       "    .dataframe tbody tr th:only-of-type {\n",
       "        vertical-align: middle;\n",
       "    }\n",
       "\n",
       "    .dataframe tbody tr th {\n",
       "        vertical-align: top;\n",
       "    }\n",
       "\n",
       "    .dataframe thead th {\n",
       "        text-align: right;\n",
       "    }\n",
       "</style>\n",
       "<table border=\"1\" class=\"dataframe\">\n",
       "  <thead>\n",
       "    <tr style=\"text-align: right;\">\n",
       "      <th></th>\n",
       "      <th>Unnamed: 0</th>\n",
       "      <th>Date</th>\n",
       "      <th>NIH Preparedness and Response</th>\n",
       "      <th>Agg NIH Preparedness and Response</th>\n",
       "    </tr>\n",
       "  </thead>\n",
       "  <tbody>\n",
       "    <tr>\n",
       "      <td>0</td>\n",
       "      <td>0</td>\n",
       "      <td>11-Mar-2020</td>\n",
       "      <td>BSL-3 mobile lab with state of art equipment h...</td>\n",
       "      <td>BSL-3 mobile lab with state of art equipment h...</td>\n",
       "    </tr>\n",
       "    <tr>\n",
       "      <td>1</td>\n",
       "      <td>1</td>\n",
       "      <td>11-Mar-2020</td>\n",
       "      <td>IPC trainings have been completed at Gilgit an...</td>\n",
       "      <td>BSL-3 mobile lab with state of art equipment h...</td>\n",
       "    </tr>\n",
       "    <tr>\n",
       "      <td>2</td>\n",
       "      <td>2</td>\n",
       "      <td>11-Mar-2020</td>\n",
       "      <td>Training of the GB lab staff has been conducte...</td>\n",
       "      <td>BSL-3 mobile lab with state of art equipment h...</td>\n",
       "    </tr>\n",
       "    <tr>\n",
       "      <td>3</td>\n",
       "      <td>3</td>\n",
       "      <td>11-Mar-2020</td>\n",
       "      <td>IPC training is in progress for FG Hospital st...</td>\n",
       "      <td>BSL-3 mobile lab with state of art equipment h...</td>\n",
       "    </tr>\n",
       "    <tr>\n",
       "      <td>4</td>\n",
       "      <td>0</td>\n",
       "      <td>12-Mar-2020</td>\n",
       "      <td>BSL-3 mobile lab is ready for testing.  •</td>\n",
       "      <td>BSL-3 mobile lab is ready for testing.  • \\n I...</td>\n",
       "    </tr>\n",
       "  </tbody>\n",
       "</table>\n",
       "</div>"
      ],
      "text/plain": [
       "   Unnamed: 0         Date                      NIH Preparedness and Response  \\\n",
       "0           0  11-Mar-2020  BSL-3 mobile lab with state of art equipment h...   \n",
       "1           1  11-Mar-2020  IPC trainings have been completed at Gilgit an...   \n",
       "2           2  11-Mar-2020  Training of the GB lab staff has been conducte...   \n",
       "3           3  11-Mar-2020  IPC training is in progress for FG Hospital st...   \n",
       "4           0  12-Mar-2020          BSL-3 mobile lab is ready for testing.  •   \n",
       "\n",
       "                   Agg NIH Preparedness and Response  \n",
       "0  BSL-3 mobile lab with state of art equipment h...  \n",
       "1  BSL-3 mobile lab with state of art equipment h...  \n",
       "2  BSL-3 mobile lab with state of art equipment h...  \n",
       "3  BSL-3 mobile lab with state of art equipment h...  \n",
       "4  BSL-3 mobile lab is ready for testing.  • \\n I...  "
      ]
     },
     "execution_count": 59,
     "metadata": {},
     "output_type": "execute_result"
    }
   ],
   "source": [
    "df6=pd.read_excel(data,sheet_name=5)\n",
    "df6.head()"
   ]
  },
  {
   "cell_type": "code",
   "execution_count": 60,
   "metadata": {},
   "outputs": [
    {
     "data": {
      "text/html": [
       "<div>\n",
       "<style scoped>\n",
       "    .dataframe tbody tr th:only-of-type {\n",
       "        vertical-align: middle;\n",
       "    }\n",
       "\n",
       "    .dataframe tbody tr th {\n",
       "        vertical-align: top;\n",
       "    }\n",
       "\n",
       "    .dataframe thead th {\n",
       "        text-align: right;\n",
       "    }\n",
       "</style>\n",
       "<table border=\"1\" class=\"dataframe\">\n",
       "  <thead>\n",
       "    <tr style=\"text-align: right;\">\n",
       "      <th></th>\n",
       "      <th>Date</th>\n",
       "      <th>NIH Preparedness and Response</th>\n",
       "      <th>Agg NIH Preparedness and Response</th>\n",
       "    </tr>\n",
       "  </thead>\n",
       "  <tbody>\n",
       "    <tr>\n",
       "      <td>0</td>\n",
       "      <td>11-Mar-2020</td>\n",
       "      <td>BSL-3 mobile lab with state of art equipment h...</td>\n",
       "      <td>BSL-3 mobile lab with state of art equipment h...</td>\n",
       "    </tr>\n",
       "    <tr>\n",
       "      <td>1</td>\n",
       "      <td>11-Mar-2020</td>\n",
       "      <td>IPC trainings have been completed at Gilgit an...</td>\n",
       "      <td>BSL-3 mobile lab with state of art equipment h...</td>\n",
       "    </tr>\n",
       "    <tr>\n",
       "      <td>2</td>\n",
       "      <td>11-Mar-2020</td>\n",
       "      <td>Training of the GB lab staff has been conducte...</td>\n",
       "      <td>BSL-3 mobile lab with state of art equipment h...</td>\n",
       "    </tr>\n",
       "    <tr>\n",
       "      <td>3</td>\n",
       "      <td>11-Mar-2020</td>\n",
       "      <td>IPC training is in progress for FG Hospital st...</td>\n",
       "      <td>BSL-3 mobile lab with state of art equipment h...</td>\n",
       "    </tr>\n",
       "    <tr>\n",
       "      <td>4</td>\n",
       "      <td>12-Mar-2020</td>\n",
       "      <td>BSL-3 mobile lab is ready for testing.  •</td>\n",
       "      <td>BSL-3 mobile lab is ready for testing.  • \\n I...</td>\n",
       "    </tr>\n",
       "  </tbody>\n",
       "</table>\n",
       "</div>"
      ],
      "text/plain": [
       "          Date                      NIH Preparedness and Response  \\\n",
       "0  11-Mar-2020  BSL-3 mobile lab with state of art equipment h...   \n",
       "1  11-Mar-2020  IPC trainings have been completed at Gilgit an...   \n",
       "2  11-Mar-2020  Training of the GB lab staff has been conducte...   \n",
       "3  11-Mar-2020  IPC training is in progress for FG Hospital st...   \n",
       "4  12-Mar-2020          BSL-3 mobile lab is ready for testing.  •   \n",
       "\n",
       "                   Agg NIH Preparedness and Response  \n",
       "0  BSL-3 mobile lab with state of art equipment h...  \n",
       "1  BSL-3 mobile lab with state of art equipment h...  \n",
       "2  BSL-3 mobile lab with state of art equipment h...  \n",
       "3  BSL-3 mobile lab with state of art equipment h...  \n",
       "4  BSL-3 mobile lab is ready for testing.  • \\n I...  "
      ]
     },
     "execution_count": 60,
     "metadata": {},
     "output_type": "execute_result"
    }
   ],
   "source": [
    "df6.drop('Unnamed: 0',axis=1,inplace=True)               #droping unnamed column keeping default indexing\n",
    "df6.head()"
   ]
  },
  {
   "cell_type": "code",
   "execution_count": 61,
   "metadata": {},
   "outputs": [
    {
     "name": "stdout",
     "output_type": "stream",
     "text": [
      "<class 'pandas.core.frame.DataFrame'>\n",
      "RangeIndex: 65 entries, 0 to 64\n",
      "Data columns (total 3 columns):\n",
      "Date                                 65 non-null datetime64[ns]\n",
      "NIH Preparedness and Response        65 non-null object\n",
      "Agg NIH Preparedness and Response    65 non-null object\n",
      "dtypes: datetime64[ns](1), object(2)\n",
      "memory usage: 1.6+ KB\n"
     ]
    }
   ],
   "source": [
    "df6['Date']=pd.to_datetime(df6['Date'])\n",
    "df6.info()"
   ]
  },
  {
   "cell_type": "code",
   "execution_count": 62,
   "metadata": {},
   "outputs": [
    {
     "name": "stdout",
     "output_type": "stream",
     "text": [
      "Date                                 0\n",
      "NIH Preparedness and Response        0\n",
      "Agg NIH Preparedness and Response    0\n",
      "dtype: int64\n"
     ]
    }
   ],
   "source": [
    "print(df6.isnull().sum())"
   ]
  },
  {
   "cell_type": "code",
   "execution_count": 63,
   "metadata": {},
   "outputs": [
    {
     "data": {
      "text/plain": [
       "Date                                 0\n",
       "NIH Preparedness and Response        0\n",
       "Agg NIH Preparedness and Response    0\n",
       "dtype: int64"
      ]
     },
     "execution_count": 63,
     "metadata": {},
     "output_type": "execute_result"
    }
   ],
   "source": [
    "df6.isin(['.','?','na','NA','N/A',np.nan,'No 0']).sum()"
   ]
  },
  {
   "cell_type": "code",
   "execution_count": 64,
   "metadata": {},
   "outputs": [
    {
     "data": {
      "text/plain": [
       "0"
      ]
     },
     "execution_count": 64,
     "metadata": {},
     "output_type": "execute_result"
    }
   ],
   "source": [
    "df6.duplicated().sum()"
   ]
  },
  {
   "cell_type": "code",
   "execution_count": 65,
   "metadata": {},
   "outputs": [
    {
     "data": {
      "text/html": [
       "<div>\n",
       "<style scoped>\n",
       "    .dataframe tbody tr th:only-of-type {\n",
       "        vertical-align: middle;\n",
       "    }\n",
       "\n",
       "    .dataframe tbody tr th {\n",
       "        vertical-align: top;\n",
       "    }\n",
       "\n",
       "    .dataframe thead th {\n",
       "        text-align: right;\n",
       "    }\n",
       "</style>\n",
       "<table border=\"1\" class=\"dataframe\">\n",
       "  <thead>\n",
       "    <tr style=\"text-align: right;\">\n",
       "      <th></th>\n",
       "      <th>Unnamed: 0</th>\n",
       "      <th>Date</th>\n",
       "      <th>Risk Assessment NIH</th>\n",
       "    </tr>\n",
       "  </thead>\n",
       "  <tbody>\n",
       "    <tr>\n",
       "      <td>0</td>\n",
       "      <td>0</td>\n",
       "      <td>11-Mar-2020</td>\n",
       "      <td>MODERATE.</td>\n",
       "    </tr>\n",
       "    <tr>\n",
       "      <td>1</td>\n",
       "      <td>0</td>\n",
       "      <td>12-Mar-2020</td>\n",
       "      <td>MODERATE.</td>\n",
       "    </tr>\n",
       "    <tr>\n",
       "      <td>2</td>\n",
       "      <td>0</td>\n",
       "      <td>13-Mar-2020</td>\n",
       "      <td>MODERATE.</td>\n",
       "    </tr>\n",
       "    <tr>\n",
       "      <td>3</td>\n",
       "      <td>0</td>\n",
       "      <td>14-Mar-2020</td>\n",
       "      <td>MODERATE.</td>\n",
       "    </tr>\n",
       "    <tr>\n",
       "      <td>4</td>\n",
       "      <td>0</td>\n",
       "      <td>15-Mar-2020</td>\n",
       "      <td>Moderate</td>\n",
       "    </tr>\n",
       "  </tbody>\n",
       "</table>\n",
       "</div>"
      ],
      "text/plain": [
       "   Unnamed: 0         Date Risk Assessment NIH\n",
       "0           0  11-Mar-2020           MODERATE.\n",
       "1           0  12-Mar-2020           MODERATE.\n",
       "2           0  13-Mar-2020           MODERATE.\n",
       "3           0  14-Mar-2020           MODERATE.\n",
       "4           0  15-Mar-2020            Moderate"
      ]
     },
     "execution_count": 65,
     "metadata": {},
     "output_type": "execute_result"
    }
   ],
   "source": [
    "df7=pd.read_excel(data,sheet_name=6)\n",
    "df7.head()"
   ]
  },
  {
   "cell_type": "code",
   "execution_count": 66,
   "metadata": {},
   "outputs": [
    {
     "data": {
      "text/plain": [
       "(24, 3)"
      ]
     },
     "execution_count": 66,
     "metadata": {},
     "output_type": "execute_result"
    }
   ],
   "source": [
    "df7.shape"
   ]
  },
  {
   "cell_type": "code",
   "execution_count": 67,
   "metadata": {},
   "outputs": [
    {
     "data": {
      "text/html": [
       "<div>\n",
       "<style scoped>\n",
       "    .dataframe tbody tr th:only-of-type {\n",
       "        vertical-align: middle;\n",
       "    }\n",
       "\n",
       "    .dataframe tbody tr th {\n",
       "        vertical-align: top;\n",
       "    }\n",
       "\n",
       "    .dataframe thead th {\n",
       "        text-align: right;\n",
       "    }\n",
       "</style>\n",
       "<table border=\"1\" class=\"dataframe\">\n",
       "  <thead>\n",
       "    <tr style=\"text-align: right;\">\n",
       "      <th></th>\n",
       "      <th>Date</th>\n",
       "      <th>Risk Assessment NIH</th>\n",
       "    </tr>\n",
       "  </thead>\n",
       "  <tbody>\n",
       "    <tr>\n",
       "      <td>0</td>\n",
       "      <td>11-Mar-2020</td>\n",
       "      <td>MODERATE.</td>\n",
       "    </tr>\n",
       "    <tr>\n",
       "      <td>1</td>\n",
       "      <td>12-Mar-2020</td>\n",
       "      <td>MODERATE.</td>\n",
       "    </tr>\n",
       "    <tr>\n",
       "      <td>2</td>\n",
       "      <td>13-Mar-2020</td>\n",
       "      <td>MODERATE.</td>\n",
       "    </tr>\n",
       "    <tr>\n",
       "      <td>3</td>\n",
       "      <td>14-Mar-2020</td>\n",
       "      <td>MODERATE.</td>\n",
       "    </tr>\n",
       "    <tr>\n",
       "      <td>4</td>\n",
       "      <td>15-Mar-2020</td>\n",
       "      <td>Moderate</td>\n",
       "    </tr>\n",
       "  </tbody>\n",
       "</table>\n",
       "</div>"
      ],
      "text/plain": [
       "          Date Risk Assessment NIH\n",
       "0  11-Mar-2020           MODERATE.\n",
       "1  12-Mar-2020           MODERATE.\n",
       "2  13-Mar-2020           MODERATE.\n",
       "3  14-Mar-2020           MODERATE.\n",
       "4  15-Mar-2020            Moderate"
      ]
     },
     "execution_count": 67,
     "metadata": {},
     "output_type": "execute_result"
    }
   ],
   "source": [
    "df7.drop('Unnamed: 0',axis=1,inplace=True)               #droping unnamed column keeping default indexing\n",
    "df7.head()"
   ]
  },
  {
   "cell_type": "code",
   "execution_count": 68,
   "metadata": {},
   "outputs": [
    {
     "name": "stdout",
     "output_type": "stream",
     "text": [
      "<class 'pandas.core.frame.DataFrame'>\n",
      "RangeIndex: 24 entries, 0 to 23\n",
      "Data columns (total 2 columns):\n",
      "Date                   24 non-null datetime64[ns]\n",
      "Risk Assessment NIH    24 non-null object\n",
      "dtypes: datetime64[ns](1), object(1)\n",
      "memory usage: 512.0+ bytes\n"
     ]
    }
   ],
   "source": [
    "df7['Date']=pd.to_datetime(df7['Date'])\n",
    "df7.info()"
   ]
  },
  {
   "cell_type": "code",
   "execution_count": 69,
   "metadata": {},
   "outputs": [
    {
     "data": {
      "text/plain": [
       "0"
      ]
     },
     "execution_count": 69,
     "metadata": {},
     "output_type": "execute_result"
    }
   ],
   "source": [
    "df7.duplicated().sum()"
   ]
  },
  {
   "cell_type": "code",
   "execution_count": 70,
   "metadata": {},
   "outputs": [
    {
     "data": {
      "text/html": [
       "<div>\n",
       "<style scoped>\n",
       "    .dataframe tbody tr th:only-of-type {\n",
       "        vertical-align: middle;\n",
       "    }\n",
       "\n",
       "    .dataframe tbody tr th {\n",
       "        vertical-align: top;\n",
       "    }\n",
       "\n",
       "    .dataframe thead th {\n",
       "        text-align: right;\n",
       "    }\n",
       "</style>\n",
       "<table border=\"1\" class=\"dataframe\">\n",
       "  <thead>\n",
       "    <tr style=\"text-align: right;\">\n",
       "      <th></th>\n",
       "      <th>Unnamed: 0</th>\n",
       "      <th>region</th>\n",
       "      <th>Provinces Preparedness and Response</th>\n",
       "      <th>Date</th>\n",
       "      <th>Agg Provinces Preparedness and Response</th>\n",
       "    </tr>\n",
       "  </thead>\n",
       "  <tbody>\n",
       "    <tr>\n",
       "      <td>0</td>\n",
       "      <td>0</td>\n",
       "      <td>Balochistan</td>\n",
       "      <td>316 newly arrived individuals screened and qua...</td>\n",
       "      <td>11-Mar-2020</td>\n",
       "      <td>316 newly arrived individuals screened and qua...</td>\n",
       "    </tr>\n",
       "    <tr>\n",
       "      <td>1</td>\n",
       "      <td>1</td>\n",
       "      <td>Balochistan</td>\n",
       "      <td>14 Chinese nationals quarantined at East Bay E...</td>\n",
       "      <td>11-Mar-2020</td>\n",
       "      <td>316 newly arrived individuals screened and qua...</td>\n",
       "    </tr>\n",
       "    <tr>\n",
       "      <td>2</td>\n",
       "      <td>2</td>\n",
       "      <td>Sindh</td>\n",
       "      <td>Staff deployed to designated quarantine facili...</td>\n",
       "      <td>11-Mar-2020</td>\n",
       "      <td>Staff deployed to designated quarantine facili...</td>\n",
       "    </tr>\n",
       "    <tr>\n",
       "      <td>3</td>\n",
       "      <td>3</td>\n",
       "      <td>Sindh</td>\n",
       "      <td>Training and orientation sessions for the heal...</td>\n",
       "      <td>11-Mar-2020</td>\n",
       "      <td>Staff deployed to designated quarantine facili...</td>\n",
       "    </tr>\n",
       "    <tr>\n",
       "      <td>4</td>\n",
       "      <td>4</td>\n",
       "      <td>KP &amp; TD</td>\n",
       "      <td>24 High Dependency Units established across KP...</td>\n",
       "      <td>11-Mar-2020</td>\n",
       "      <td>24 High Dependency Units established across KP...</td>\n",
       "    </tr>\n",
       "  </tbody>\n",
       "</table>\n",
       "</div>"
      ],
      "text/plain": [
       "   Unnamed: 0       region                Provinces Preparedness and Response  \\\n",
       "0           0  Balochistan  316 newly arrived individuals screened and qua...   \n",
       "1           1  Balochistan  14 Chinese nationals quarantined at East Bay E...   \n",
       "2           2        Sindh  Staff deployed to designated quarantine facili...   \n",
       "3           3        Sindh  Training and orientation sessions for the heal...   \n",
       "4           4      KP & TD  24 High Dependency Units established across KP...   \n",
       "\n",
       "          Date            Agg Provinces Preparedness and Response  \n",
       "0  11-Mar-2020  316 newly arrived individuals screened and qua...  \n",
       "1  11-Mar-2020  316 newly arrived individuals screened and qua...  \n",
       "2  11-Mar-2020  Staff deployed to designated quarantine facili...  \n",
       "3  11-Mar-2020  Staff deployed to designated quarantine facili...  \n",
       "4  11-Mar-2020  24 High Dependency Units established across KP...  "
      ]
     },
     "execution_count": 70,
     "metadata": {},
     "output_type": "execute_result"
    }
   ],
   "source": [
    "df8=pd.read_excel(data,sheet_name=7)\n",
    "df8.head()"
   ]
  },
  {
   "cell_type": "code",
   "execution_count": 71,
   "metadata": {},
   "outputs": [
    {
     "data": {
      "text/plain": [
       "array(['Balochistan', 'Sindh', 'KP & TD', 'GB', 'Punjab', 'AJK', 'ICT',\n",
       "       'KP'], dtype=object)"
      ]
     },
     "execution_count": 71,
     "metadata": {},
     "output_type": "execute_result"
    }
   ],
   "source": [
    "df8.region.unique()"
   ]
  },
  {
   "cell_type": "code",
   "execution_count": 72,
   "metadata": {},
   "outputs": [
    {
     "data": {
      "text/plain": [
       "(166, 5)"
      ]
     },
     "execution_count": 72,
     "metadata": {},
     "output_type": "execute_result"
    }
   ],
   "source": [
    "df8.shape"
   ]
  },
  {
   "cell_type": "code",
   "execution_count": 73,
   "metadata": {},
   "outputs": [
    {
     "data": {
      "text/html": [
       "<div>\n",
       "<style scoped>\n",
       "    .dataframe tbody tr th:only-of-type {\n",
       "        vertical-align: middle;\n",
       "    }\n",
       "\n",
       "    .dataframe tbody tr th {\n",
       "        vertical-align: top;\n",
       "    }\n",
       "\n",
       "    .dataframe thead th {\n",
       "        text-align: right;\n",
       "    }\n",
       "</style>\n",
       "<table border=\"1\" class=\"dataframe\">\n",
       "  <thead>\n",
       "    <tr style=\"text-align: right;\">\n",
       "      <th></th>\n",
       "      <th>Unnamed: 0</th>\n",
       "      <th>region</th>\n",
       "      <th>Provinces Preparedness and Response</th>\n",
       "      <th>Date</th>\n",
       "      <th>Agg Provinces Preparedness and Response</th>\n",
       "    </tr>\n",
       "  </thead>\n",
       "  <tbody>\n",
       "    <tr>\n",
       "      <td>4</td>\n",
       "      <td>4</td>\n",
       "      <td>KP &amp; TD</td>\n",
       "      <td>24 High Dependency Units established across KP...</td>\n",
       "      <td>11-Mar-2020</td>\n",
       "      <td>24 High Dependency Units established across KP...</td>\n",
       "    </tr>\n",
       "    <tr>\n",
       "      <td>12</td>\n",
       "      <td>4</td>\n",
       "      <td>KP &amp; TD</td>\n",
       "      <td>01 alert generated (self-referral) in Police a...</td>\n",
       "      <td>12-Mar-2020</td>\n",
       "      <td>01 alert generated (self-referral) in Police a...</td>\n",
       "    </tr>\n",
       "    <tr>\n",
       "      <td>20</td>\n",
       "      <td>4</td>\n",
       "      <td>KP &amp; TD</td>\n",
       "      <td>A total of 75 personnel including doctors, par...</td>\n",
       "      <td>13-Mar-2020</td>\n",
       "      <td>A total of 75 personnel including doctors, par...</td>\n",
       "    </tr>\n",
       "    <tr>\n",
       "      <td>29</td>\n",
       "      <td>4</td>\n",
       "      <td>AJK</td>\n",
       "      <td>Chest Diseases General Hospital (CDGH) Hill Ch...</td>\n",
       "      <td>14-Mar-2020</td>\n",
       "      <td>Chest Diseases General Hospital (CDGH) Hill Ch...</td>\n",
       "    </tr>\n",
       "    <tr>\n",
       "      <td>36</td>\n",
       "      <td>4</td>\n",
       "      <td>Sindh</td>\n",
       "      <td>Quarantine facilities established and operatio...</td>\n",
       "      <td>15-Mar-2020</td>\n",
       "      <td>Quarantine facilities established and operatio...</td>\n",
       "    </tr>\n",
       "    <tr>\n",
       "      <td>46</td>\n",
       "      <td>4</td>\n",
       "      <td>KP &amp; TD</td>\n",
       "      <td>Four new suspected cases reported from Police ...</td>\n",
       "      <td>16-Mar-2020</td>\n",
       "      <td>Four new suspected cases reported from Police ...</td>\n",
       "    </tr>\n",
       "    <tr>\n",
       "      <td>54</td>\n",
       "      <td>4</td>\n",
       "      <td>Punjab</td>\n",
       "      <td>PDSRU is in 24/7 coordination with NIH, Islama...</td>\n",
       "      <td>17-Mar-2020</td>\n",
       "      <td>PDSRU is in 24/7 coordination with NIH, Islama...</td>\n",
       "    </tr>\n",
       "    <tr>\n",
       "      <td>62</td>\n",
       "      <td>4</td>\n",
       "      <td>KP &amp; TD</td>\n",
       "      <td>Quarantine facility for 171 passengers establi...</td>\n",
       "      <td>18-Mar-2020</td>\n",
       "      <td>Quarantine facility for 171 passengers establi...</td>\n",
       "    </tr>\n",
       "    <tr>\n",
       "      <td>70</td>\n",
       "      <td>4</td>\n",
       "      <td>AJK</td>\n",
       "      <td>Contact tracing of confirmed case being carrie...</td>\n",
       "      <td>19-Mar-2020</td>\n",
       "      <td>Contact tracing of confirmed case being carrie...</td>\n",
       "    </tr>\n",
       "    <tr>\n",
       "      <td>76</td>\n",
       "      <td>4</td>\n",
       "      <td>KP &amp; TD</td>\n",
       "      <td>Contact tracing of all suspected and confirmed...</td>\n",
       "      <td>20-Mar-2020</td>\n",
       "      <td>Contact tracing of all suspected and confirmed...</td>\n",
       "    </tr>\n",
       "    <tr>\n",
       "      <td>83</td>\n",
       "      <td>4</td>\n",
       "      <td>KP &amp; TD</td>\n",
       "      <td>30 people who have an international travel his...</td>\n",
       "      <td>21-Mar-2020</td>\n",
       "      <td>30 people who have an international travel his...</td>\n",
       "    </tr>\n",
       "    <tr>\n",
       "      <td>90</td>\n",
       "      <td>4</td>\n",
       "      <td>KP &amp; TD</td>\n",
       "      <td>Incident Command and Management Centre regardi...</td>\n",
       "      <td>22-Mar-2020</td>\n",
       "      <td>Incident Command and Management Centre regardi...</td>\n",
       "    </tr>\n",
       "    <tr>\n",
       "      <td>97</td>\n",
       "      <td>4</td>\n",
       "      <td>AJK</td>\n",
       "      <td>13 new pilgrims have been received from Taftan...</td>\n",
       "      <td>23-Mar-2020</td>\n",
       "      <td>13 new pilgrims have been received from Taftan...</td>\n",
       "    </tr>\n",
       "    <tr>\n",
       "      <td>103</td>\n",
       "      <td>4</td>\n",
       "      <td>AJK</td>\n",
       "      <td>VTM kits made available at all designated hosp...</td>\n",
       "      <td>24-Mar-2020</td>\n",
       "      <td>VTM kits made available at all designated hosp...</td>\n",
       "    </tr>\n",
       "    <tr>\n",
       "      <td>109</td>\n",
       "      <td>4</td>\n",
       "      <td>GB</td>\n",
       "      <td>Gilgit and Baltistan announced 2 Red Zones.   •</td>\n",
       "      <td>25-Mar-2020</td>\n",
       "      <td>Gilgit and Baltistan announced 2 Red Zones.   •</td>\n",
       "    </tr>\n",
       "    <tr>\n",
       "      <td>114</td>\n",
       "      <td>4</td>\n",
       "      <td>AJK</td>\n",
       "      <td>SOPs on COVID-19 prepared by Dept of AJK have ...</td>\n",
       "      <td>26-Mar-2020</td>\n",
       "      <td>SOPs on COVID-19 prepared by Dept of AJK have ...</td>\n",
       "    </tr>\n",
       "    <tr>\n",
       "      <td>120</td>\n",
       "      <td>4</td>\n",
       "      <td>AJK</td>\n",
       "      <td>SOPs on COVID-19 prepared by Dept of AJK have ...</td>\n",
       "      <td>27-Mar-2020</td>\n",
       "      <td>SOPs on COVID-19 prepared by Dept of AJK have ...</td>\n",
       "    </tr>\n",
       "    <tr>\n",
       "      <td>126</td>\n",
       "      <td>4</td>\n",
       "      <td>AJK</td>\n",
       "      <td>A new field isolation hospital for COVID-19 wi...</td>\n",
       "      <td>28-Mar-2020</td>\n",
       "      <td>A new field isolation hospital for COVID-19 wi...</td>\n",
       "    </tr>\n",
       "    <tr>\n",
       "      <td>132</td>\n",
       "      <td>4</td>\n",
       "      <td>AJK</td>\n",
       "      <td>SOPs on COVID-19 prepared by Department of hea...</td>\n",
       "      <td>29-Mar-2020</td>\n",
       "      <td>SOPs on COVID-19 prepared by Department of hea...</td>\n",
       "    </tr>\n",
       "    <tr>\n",
       "      <td>138</td>\n",
       "      <td>4</td>\n",
       "      <td>AJK</td>\n",
       "      <td>A new field isolation hospital for COVID-19 pa...</td>\n",
       "      <td>30-Mar-2020</td>\n",
       "      <td>A new field isolation hospital for COVID-19 pa...</td>\n",
       "    </tr>\n",
       "    <tr>\n",
       "      <td>144</td>\n",
       "      <td>4</td>\n",
       "      <td>KP</td>\n",
       "      <td>Equipment and supplies including oxygen concen...</td>\n",
       "      <td>2020-03-31 00:00:00</td>\n",
       "      <td>Equipment and supplies including oxygen concen...</td>\n",
       "    </tr>\n",
       "    <tr>\n",
       "      <td>151</td>\n",
       "      <td>4</td>\n",
       "      <td>AJK</td>\n",
       "      <td>Contact tracing of confirmed cases done. 50 sa...</td>\n",
       "      <td>2020-04-01 00:00:00</td>\n",
       "      <td>Contact tracing of confirmed cases done. 50 sa...</td>\n",
       "    </tr>\n",
       "    <tr>\n",
       "      <td>157</td>\n",
       "      <td>4</td>\n",
       "      <td>AJK</td>\n",
       "      <td>MNCH program released Rs. 2.25 million to all ...</td>\n",
       "      <td>2020-04-02 00:00:00</td>\n",
       "      <td>MNCH program released Rs. 2.25 million to all ...</td>\n",
       "    </tr>\n",
       "    <tr>\n",
       "      <td>163</td>\n",
       "      <td>4</td>\n",
       "      <td>KP</td>\n",
       "      <td>Data transcription on to the IPMS software hos...</td>\n",
       "      <td>2020-04-03 00:00:00</td>\n",
       "      <td>Data transcription on to the IPMS software hos...</td>\n",
       "    </tr>\n",
       "  </tbody>\n",
       "</table>\n",
       "</div>"
      ],
      "text/plain": [
       "     Unnamed: 0   region                Provinces Preparedness and Response  \\\n",
       "4             4  KP & TD  24 High Dependency Units established across KP...   \n",
       "12            4  KP & TD  01 alert generated (self-referral) in Police a...   \n",
       "20            4  KP & TD  A total of 75 personnel including doctors, par...   \n",
       "29            4      AJK  Chest Diseases General Hospital (CDGH) Hill Ch...   \n",
       "36            4    Sindh  Quarantine facilities established and operatio...   \n",
       "46            4  KP & TD  Four new suspected cases reported from Police ...   \n",
       "54            4   Punjab  PDSRU is in 24/7 coordination with NIH, Islama...   \n",
       "62            4  KP & TD  Quarantine facility for 171 passengers establi...   \n",
       "70            4      AJK  Contact tracing of confirmed case being carrie...   \n",
       "76            4  KP & TD  Contact tracing of all suspected and confirmed...   \n",
       "83            4  KP & TD  30 people who have an international travel his...   \n",
       "90            4  KP & TD  Incident Command and Management Centre regardi...   \n",
       "97            4      AJK  13 new pilgrims have been received from Taftan...   \n",
       "103           4      AJK  VTM kits made available at all designated hosp...   \n",
       "109           4       GB    Gilgit and Baltistan announced 2 Red Zones.   •   \n",
       "114           4      AJK  SOPs on COVID-19 prepared by Dept of AJK have ...   \n",
       "120           4      AJK  SOPs on COVID-19 prepared by Dept of AJK have ...   \n",
       "126           4      AJK  A new field isolation hospital for COVID-19 wi...   \n",
       "132           4      AJK  SOPs on COVID-19 prepared by Department of hea...   \n",
       "138           4      AJK  A new field isolation hospital for COVID-19 pa...   \n",
       "144           4       KP  Equipment and supplies including oxygen concen...   \n",
       "151           4      AJK  Contact tracing of confirmed cases done. 50 sa...   \n",
       "157           4      AJK  MNCH program released Rs. 2.25 million to all ...   \n",
       "163           4       KP  Data transcription on to the IPMS software hos...   \n",
       "\n",
       "                    Date            Agg Provinces Preparedness and Response  \n",
       "4            11-Mar-2020  24 High Dependency Units established across KP...  \n",
       "12           12-Mar-2020  01 alert generated (self-referral) in Police a...  \n",
       "20           13-Mar-2020  A total of 75 personnel including doctors, par...  \n",
       "29           14-Mar-2020  Chest Diseases General Hospital (CDGH) Hill Ch...  \n",
       "36           15-Mar-2020  Quarantine facilities established and operatio...  \n",
       "46           16-Mar-2020  Four new suspected cases reported from Police ...  \n",
       "54           17-Mar-2020  PDSRU is in 24/7 coordination with NIH, Islama...  \n",
       "62           18-Mar-2020  Quarantine facility for 171 passengers establi...  \n",
       "70           19-Mar-2020  Contact tracing of confirmed case being carrie...  \n",
       "76           20-Mar-2020  Contact tracing of all suspected and confirmed...  \n",
       "83           21-Mar-2020  30 people who have an international travel his...  \n",
       "90           22-Mar-2020  Incident Command and Management Centre regardi...  \n",
       "97           23-Mar-2020  13 new pilgrims have been received from Taftan...  \n",
       "103          24-Mar-2020  VTM kits made available at all designated hosp...  \n",
       "109          25-Mar-2020    Gilgit and Baltistan announced 2 Red Zones.   •  \n",
       "114          26-Mar-2020  SOPs on COVID-19 prepared by Dept of AJK have ...  \n",
       "120          27-Mar-2020  SOPs on COVID-19 prepared by Dept of AJK have ...  \n",
       "126          28-Mar-2020  A new field isolation hospital for COVID-19 wi...  \n",
       "132          29-Mar-2020  SOPs on COVID-19 prepared by Department of hea...  \n",
       "138          30-Mar-2020  A new field isolation hospital for COVID-19 pa...  \n",
       "144  2020-03-31 00:00:00  Equipment and supplies including oxygen concen...  \n",
       "151  2020-04-01 00:00:00  Contact tracing of confirmed cases done. 50 sa...  \n",
       "157  2020-04-02 00:00:00  MNCH program released Rs. 2.25 million to all ...  \n",
       "163  2020-04-03 00:00:00  Data transcription on to the IPMS software hos...  "
      ]
     },
     "execution_count": 73,
     "metadata": {},
     "output_type": "execute_result"
    }
   ],
   "source": [
    "df8[df8['Unnamed: 0']==4]"
   ]
  },
  {
   "cell_type": "code",
   "execution_count": 74,
   "metadata": {},
   "outputs": [
    {
     "name": "stdout",
     "output_type": "stream",
     "text": [
      "<class 'pandas.core.frame.DataFrame'>\n",
      "RangeIndex: 166 entries, 0 to 165\n",
      "Data columns (total 5 columns):\n",
      "Unnamed: 0                                 166 non-null int64\n",
      "region                                     166 non-null object\n",
      "Provinces Preparedness and Response        166 non-null object\n",
      "Date                                       166 non-null object\n",
      "Agg Provinces Preparedness and Response    166 non-null object\n",
      "dtypes: int64(1), object(4)\n",
      "memory usage: 6.6+ KB\n"
     ]
    }
   ],
   "source": [
    "df8.info()"
   ]
  },
  {
   "cell_type": "code",
   "execution_count": 75,
   "metadata": {},
   "outputs": [
    {
     "name": "stdout",
     "output_type": "stream",
     "text": [
      "<class 'pandas.core.frame.DataFrame'>\n",
      "RangeIndex: 166 entries, 0 to 165\n",
      "Data columns (total 5 columns):\n",
      "Unnamed: 0                                 166 non-null int64\n",
      "region                                     166 non-null object\n",
      "Provinces Preparedness and Response        166 non-null object\n",
      "Date                                       166 non-null datetime64[ns]\n",
      "Agg Provinces Preparedness and Response    166 non-null object\n",
      "dtypes: datetime64[ns](1), int64(1), object(3)\n",
      "memory usage: 6.6+ KB\n"
     ]
    }
   ],
   "source": [
    "df8['Date']=pd.to_datetime(df8['Date'])\n",
    "df8.info()"
   ]
  },
  {
   "cell_type": "code",
   "execution_count": 76,
   "metadata": {},
   "outputs": [
    {
     "data": {
      "text/plain": [
       "Unnamed: 0                                 0\n",
       "region                                     0\n",
       "Provinces Preparedness and Response        0\n",
       "Date                                       0\n",
       "Agg Provinces Preparedness and Response    0\n",
       "dtype: int64"
      ]
     },
     "execution_count": 76,
     "metadata": {},
     "output_type": "execute_result"
    }
   ],
   "source": [
    "df8.isnull().sum()"
   ]
  },
  {
   "cell_type": "code",
   "execution_count": 77,
   "metadata": {},
   "outputs": [
    {
     "data": {
      "text/plain": [
       "Unnamed: 0                                 0\n",
       "region                                     0\n",
       "Provinces Preparedness and Response        0\n",
       "Date                                       0\n",
       "Agg Provinces Preparedness and Response    0\n",
       "dtype: int64"
      ]
     },
     "execution_count": 77,
     "metadata": {},
     "output_type": "execute_result"
    }
   ],
   "source": [
    "df8.isin(['.','?','na','NA','N/A',np.nan,'No 0']).sum()"
   ]
  },
  {
   "cell_type": "code",
   "execution_count": 78,
   "metadata": {},
   "outputs": [
    {
     "data": {
      "text/plain": [
       "0"
      ]
     },
     "execution_count": 78,
     "metadata": {},
     "output_type": "execute_result"
    }
   ],
   "source": [
    "df8.duplicated().sum()"
   ]
  },
  {
   "cell_type": "code",
   "execution_count": 79,
   "metadata": {},
   "outputs": [
    {
     "data": {
      "text/html": [
       "<div>\n",
       "<style scoped>\n",
       "    .dataframe tbody tr th:only-of-type {\n",
       "        vertical-align: middle;\n",
       "    }\n",
       "\n",
       "    .dataframe tbody tr th {\n",
       "        vertical-align: top;\n",
       "    }\n",
       "\n",
       "    .dataframe thead th {\n",
       "        text-align: right;\n",
       "    }\n",
       "</style>\n",
       "<table border=\"1\" class=\"dataframe\">\n",
       "  <thead>\n",
       "    <tr style=\"text-align: right;\">\n",
       "      <th></th>\n",
       "      <th>Unnamed: 0</th>\n",
       "      <th>Cumulative Calls</th>\n",
       "      <th>Date</th>\n",
       "      <th>New Calls</th>\n",
       "    </tr>\n",
       "  </thead>\n",
       "  <tbody>\n",
       "    <tr>\n",
       "      <td>0</td>\n",
       "      <td>0</td>\n",
       "      <td>12481</td>\n",
       "      <td>2020-03-11</td>\n",
       "      <td>547</td>\n",
       "    </tr>\n",
       "    <tr>\n",
       "      <td>1</td>\n",
       "      <td>0</td>\n",
       "      <td>13167</td>\n",
       "      <td>2020-03-12</td>\n",
       "      <td>686</td>\n",
       "    </tr>\n",
       "    <tr>\n",
       "      <td>2</td>\n",
       "      <td>0</td>\n",
       "      <td>13896</td>\n",
       "      <td>2020-03-13</td>\n",
       "      <td>729</td>\n",
       "    </tr>\n",
       "    <tr>\n",
       "      <td>3</td>\n",
       "      <td>0</td>\n",
       "      <td>15340</td>\n",
       "      <td>2020-03-14</td>\n",
       "      <td>1444</td>\n",
       "    </tr>\n",
       "    <tr>\n",
       "      <td>4</td>\n",
       "      <td>0</td>\n",
       "      <td>19131</td>\n",
       "      <td>2020-03-15</td>\n",
       "      <td>3791</td>\n",
       "    </tr>\n",
       "  </tbody>\n",
       "</table>\n",
       "</div>"
      ],
      "text/plain": [
       "   Unnamed: 0  Cumulative Calls       Date  New Calls\n",
       "0           0             12481 2020-03-11        547\n",
       "1           0             13167 2020-03-12        686\n",
       "2           0             13896 2020-03-13        729\n",
       "3           0             15340 2020-03-14       1444\n",
       "4           0             19131 2020-03-15       3791"
      ]
     },
     "execution_count": 79,
     "metadata": {},
     "output_type": "execute_result"
    }
   ],
   "source": [
    "df9=pd.read_excel(data,sheet_name=8)\n",
    "df9.head()"
   ]
  },
  {
   "cell_type": "code",
   "execution_count": 80,
   "metadata": {},
   "outputs": [
    {
     "data": {
      "text/plain": [
       "(24, 4)"
      ]
     },
     "execution_count": 80,
     "metadata": {},
     "output_type": "execute_result"
    }
   ],
   "source": [
    "df9.shape"
   ]
  },
  {
   "cell_type": "code",
   "execution_count": 81,
   "metadata": {},
   "outputs": [
    {
     "data": {
      "text/plain": [
       "24"
      ]
     },
     "execution_count": 81,
     "metadata": {},
     "output_type": "execute_result"
    }
   ],
   "source": [
    "df9['Unnamed: 0'].isin([0]).sum()"
   ]
  },
  {
   "cell_type": "code",
   "execution_count": 82,
   "metadata": {},
   "outputs": [
    {
     "data": {
      "text/html": [
       "<div>\n",
       "<style scoped>\n",
       "    .dataframe tbody tr th:only-of-type {\n",
       "        vertical-align: middle;\n",
       "    }\n",
       "\n",
       "    .dataframe tbody tr th {\n",
       "        vertical-align: top;\n",
       "    }\n",
       "\n",
       "    .dataframe thead th {\n",
       "        text-align: right;\n",
       "    }\n",
       "</style>\n",
       "<table border=\"1\" class=\"dataframe\">\n",
       "  <thead>\n",
       "    <tr style=\"text-align: right;\">\n",
       "      <th></th>\n",
       "      <th>Cumulative Calls</th>\n",
       "      <th>Date</th>\n",
       "      <th>New Calls</th>\n",
       "    </tr>\n",
       "  </thead>\n",
       "  <tbody>\n",
       "    <tr>\n",
       "      <td>0</td>\n",
       "      <td>12481</td>\n",
       "      <td>2020-03-11</td>\n",
       "      <td>547</td>\n",
       "    </tr>\n",
       "    <tr>\n",
       "      <td>1</td>\n",
       "      <td>13167</td>\n",
       "      <td>2020-03-12</td>\n",
       "      <td>686</td>\n",
       "    </tr>\n",
       "    <tr>\n",
       "      <td>2</td>\n",
       "      <td>13896</td>\n",
       "      <td>2020-03-13</td>\n",
       "      <td>729</td>\n",
       "    </tr>\n",
       "    <tr>\n",
       "      <td>3</td>\n",
       "      <td>15340</td>\n",
       "      <td>2020-03-14</td>\n",
       "      <td>1444</td>\n",
       "    </tr>\n",
       "    <tr>\n",
       "      <td>4</td>\n",
       "      <td>19131</td>\n",
       "      <td>2020-03-15</td>\n",
       "      <td>3791</td>\n",
       "    </tr>\n",
       "  </tbody>\n",
       "</table>\n",
       "</div>"
      ],
      "text/plain": [
       "   Cumulative Calls       Date  New Calls\n",
       "0             12481 2020-03-11        547\n",
       "1             13167 2020-03-12        686\n",
       "2             13896 2020-03-13        729\n",
       "3             15340 2020-03-14       1444\n",
       "4             19131 2020-03-15       3791"
      ]
     },
     "execution_count": 82,
     "metadata": {},
     "output_type": "execute_result"
    }
   ],
   "source": [
    "df9.drop('Unnamed: 0',axis=1,inplace=True)               #droping unnamed column keeping default indexing\n",
    "df9.head()"
   ]
  },
  {
   "cell_type": "code",
   "execution_count": 83,
   "metadata": {},
   "outputs": [],
   "source": [
    "df9.columns=df9.columns.str.strip().str.capitalize().str.replace(' ','_')"
   ]
  },
  {
   "cell_type": "code",
   "execution_count": 84,
   "metadata": {},
   "outputs": [
    {
     "data": {
      "text/html": [
       "<div>\n",
       "<style scoped>\n",
       "    .dataframe tbody tr th:only-of-type {\n",
       "        vertical-align: middle;\n",
       "    }\n",
       "\n",
       "    .dataframe tbody tr th {\n",
       "        vertical-align: top;\n",
       "    }\n",
       "\n",
       "    .dataframe thead th {\n",
       "        text-align: right;\n",
       "    }\n",
       "</style>\n",
       "<table border=\"1\" class=\"dataframe\">\n",
       "  <thead>\n",
       "    <tr style=\"text-align: right;\">\n",
       "      <th></th>\n",
       "      <th>Cumulative_calls</th>\n",
       "      <th>Date</th>\n",
       "      <th>New_calls</th>\n",
       "    </tr>\n",
       "  </thead>\n",
       "  <tbody>\n",
       "    <tr>\n",
       "      <td>0</td>\n",
       "      <td>12481</td>\n",
       "      <td>2020-03-11</td>\n",
       "      <td>547</td>\n",
       "    </tr>\n",
       "    <tr>\n",
       "      <td>1</td>\n",
       "      <td>13167</td>\n",
       "      <td>2020-03-12</td>\n",
       "      <td>686</td>\n",
       "    </tr>\n",
       "    <tr>\n",
       "      <td>2</td>\n",
       "      <td>13896</td>\n",
       "      <td>2020-03-13</td>\n",
       "      <td>729</td>\n",
       "    </tr>\n",
       "    <tr>\n",
       "      <td>3</td>\n",
       "      <td>15340</td>\n",
       "      <td>2020-03-14</td>\n",
       "      <td>1444</td>\n",
       "    </tr>\n",
       "    <tr>\n",
       "      <td>4</td>\n",
       "      <td>19131</td>\n",
       "      <td>2020-03-15</td>\n",
       "      <td>3791</td>\n",
       "    </tr>\n",
       "  </tbody>\n",
       "</table>\n",
       "</div>"
      ],
      "text/plain": [
       "   Cumulative_calls       Date  New_calls\n",
       "0             12481 2020-03-11        547\n",
       "1             13167 2020-03-12        686\n",
       "2             13896 2020-03-13        729\n",
       "3             15340 2020-03-14       1444\n",
       "4             19131 2020-03-15       3791"
      ]
     },
     "execution_count": 84,
     "metadata": {},
     "output_type": "execute_result"
    }
   ],
   "source": [
    "df9['Date']=pd.to_datetime(df9['Date'])\n",
    "df9.head()"
   ]
  },
  {
   "cell_type": "code",
   "execution_count": 85,
   "metadata": {},
   "outputs": [
    {
     "name": "stdout",
     "output_type": "stream",
     "text": [
      "Cumulative_calls    0\n",
      "Date                0\n",
      "New_calls           0\n",
      "dtype: int64\n"
     ]
    },
    {
     "data": {
      "text/plain": [
       "Cumulative_calls    0\n",
       "Date                0\n",
       "New_calls           0\n",
       "dtype: int64"
      ]
     },
     "execution_count": 85,
     "metadata": {},
     "output_type": "execute_result"
    }
   ],
   "source": [
    "print(df9.isnull().sum())\n",
    "df9.isin(['.','?','na','NA','N/A',np.nan,'No 0']).sum()"
   ]
  },
  {
   "cell_type": "code",
   "execution_count": 86,
   "metadata": {},
   "outputs": [
    {
     "data": {
      "text/plain": [
       "0"
      ]
     },
     "execution_count": 86,
     "metadata": {},
     "output_type": "execute_result"
    }
   ],
   "source": [
    "df9.duplicated().sum()"
   ]
  },
  {
   "cell_type": "code",
   "execution_count": 87,
   "metadata": {},
   "outputs": [
    {
     "data": {
      "text/html": [
       "<div>\n",
       "<style scoped>\n",
       "    .dataframe tbody tr th:only-of-type {\n",
       "        vertical-align: middle;\n",
       "    }\n",
       "\n",
       "    .dataframe tbody tr th {\n",
       "        vertical-align: top;\n",
       "    }\n",
       "\n",
       "    .dataframe thead th {\n",
       "        text-align: right;\n",
       "    }\n",
       "</style>\n",
       "<table border=\"1\" class=\"dataframe\">\n",
       "  <thead>\n",
       "    <tr style=\"text-align: right;\">\n",
       "      <th></th>\n",
       "      <th>Unnamed: 0</th>\n",
       "      <th>Regions</th>\n",
       "      <th>Quarantine facilities (n)</th>\n",
       "      <th>No. of arrivals in last 24 hrs</th>\n",
       "      <th>Cumulative no of persons present</th>\n",
       "      <th>Date</th>\n",
       "    </tr>\n",
       "  </thead>\n",
       "  <tbody>\n",
       "    <tr>\n",
       "      <td>0</td>\n",
       "      <td>0</td>\n",
       "      <td>ICT</td>\n",
       "      <td>1</td>\n",
       "      <td>0</td>\n",
       "      <td>24</td>\n",
       "      <td>2020-04-01</td>\n",
       "    </tr>\n",
       "    <tr>\n",
       "      <td>1</td>\n",
       "      <td>1</td>\n",
       "      <td>Punjab</td>\n",
       "      <td>4</td>\n",
       "      <td>0</td>\n",
       "      <td>2956</td>\n",
       "      <td>2020-04-01</td>\n",
       "    </tr>\n",
       "    <tr>\n",
       "      <td>2</td>\n",
       "      <td>2</td>\n",
       "      <td>Sindh</td>\n",
       "      <td>5</td>\n",
       "      <td>0</td>\n",
       "      <td>1388</td>\n",
       "      <td>2020-04-01</td>\n",
       "    </tr>\n",
       "    <tr>\n",
       "      <td>3</td>\n",
       "      <td>3</td>\n",
       "      <td>KP</td>\n",
       "      <td>92</td>\n",
       "      <td>181</td>\n",
       "      <td>3260</td>\n",
       "      <td>2020-04-01</td>\n",
       "    </tr>\n",
       "    <tr>\n",
       "      <td>4</td>\n",
       "      <td>4</td>\n",
       "      <td>Balochistan</td>\n",
       "      <td>9</td>\n",
       "      <td>0</td>\n",
       "      <td>366</td>\n",
       "      <td>2020-04-01</td>\n",
       "    </tr>\n",
       "  </tbody>\n",
       "</table>\n",
       "</div>"
      ],
      "text/plain": [
       "   Unnamed: 0      Regions  Quarantine facilities (n)  \\\n",
       "0           0          ICT                          1   \n",
       "1           1       Punjab                          4   \n",
       "2           2        Sindh                          5   \n",
       "3           3           KP                         92   \n",
       "4           4  Balochistan                          9   \n",
       "\n",
       "   No. of arrivals in last 24 hrs  Cumulative no of persons present       Date  \n",
       "0                               0                                24 2020-04-01  \n",
       "1                               0                              2956 2020-04-01  \n",
       "2                               0                              1388 2020-04-01  \n",
       "3                             181                              3260 2020-04-01  \n",
       "4                               0                               366 2020-04-01  "
      ]
     },
     "execution_count": 87,
     "metadata": {},
     "output_type": "execute_result"
    }
   ],
   "source": [
    "df10=pd.read_excel(data,sheet_name=9)\n",
    "df10.head()"
   ]
  },
  {
   "cell_type": "code",
   "execution_count": 88,
   "metadata": {},
   "outputs": [
    {
     "data": {
      "text/plain": [
       "(21, 6)"
      ]
     },
     "execution_count": 88,
     "metadata": {},
     "output_type": "execute_result"
    }
   ],
   "source": [
    "df10.shape"
   ]
  },
  {
   "cell_type": "code",
   "execution_count": 89,
   "metadata": {},
   "outputs": [
    {
     "data": {
      "text/html": [
       "<div>\n",
       "<style scoped>\n",
       "    .dataframe tbody tr th:only-of-type {\n",
       "        vertical-align: middle;\n",
       "    }\n",
       "\n",
       "    .dataframe tbody tr th {\n",
       "        vertical-align: top;\n",
       "    }\n",
       "\n",
       "    .dataframe thead th {\n",
       "        text-align: right;\n",
       "    }\n",
       "</style>\n",
       "<table border=\"1\" class=\"dataframe\">\n",
       "  <thead>\n",
       "    <tr style=\"text-align: right;\">\n",
       "      <th></th>\n",
       "      <th>Regions</th>\n",
       "      <th>Quarantine facilities (n)</th>\n",
       "      <th>No. of arrivals in last 24 hrs</th>\n",
       "      <th>Cumulative no of persons present</th>\n",
       "      <th>Date</th>\n",
       "    </tr>\n",
       "  </thead>\n",
       "  <tbody>\n",
       "    <tr>\n",
       "      <td>0</td>\n",
       "      <td>ICT</td>\n",
       "      <td>1</td>\n",
       "      <td>0</td>\n",
       "      <td>24</td>\n",
       "      <td>2020-04-01</td>\n",
       "    </tr>\n",
       "    <tr>\n",
       "      <td>1</td>\n",
       "      <td>Punjab</td>\n",
       "      <td>4</td>\n",
       "      <td>0</td>\n",
       "      <td>2956</td>\n",
       "      <td>2020-04-01</td>\n",
       "    </tr>\n",
       "    <tr>\n",
       "      <td>2</td>\n",
       "      <td>Sindh</td>\n",
       "      <td>5</td>\n",
       "      <td>0</td>\n",
       "      <td>1388</td>\n",
       "      <td>2020-04-01</td>\n",
       "    </tr>\n",
       "    <tr>\n",
       "      <td>3</td>\n",
       "      <td>KP</td>\n",
       "      <td>92</td>\n",
       "      <td>181</td>\n",
       "      <td>3260</td>\n",
       "      <td>2020-04-01</td>\n",
       "    </tr>\n",
       "    <tr>\n",
       "      <td>4</td>\n",
       "      <td>Balochistan</td>\n",
       "      <td>9</td>\n",
       "      <td>0</td>\n",
       "      <td>366</td>\n",
       "      <td>2020-04-01</td>\n",
       "    </tr>\n",
       "  </tbody>\n",
       "</table>\n",
       "</div>"
      ],
      "text/plain": [
       "       Regions  Quarantine facilities (n)  No. of arrivals in last 24 hrs  \\\n",
       "0          ICT                          1                               0   \n",
       "1       Punjab                          4                               0   \n",
       "2        Sindh                          5                               0   \n",
       "3           KP                         92                             181   \n",
       "4  Balochistan                          9                               0   \n",
       "\n",
       "   Cumulative no of persons present       Date  \n",
       "0                                24 2020-04-01  \n",
       "1                              2956 2020-04-01  \n",
       "2                              1388 2020-04-01  \n",
       "3                              3260 2020-04-01  \n",
       "4                               366 2020-04-01  "
      ]
     },
     "execution_count": 89,
     "metadata": {},
     "output_type": "execute_result"
    }
   ],
   "source": [
    "df10.drop('Unnamed: 0',axis=1,inplace=True)               #droping unnamed column keeping default indexing\n",
    "df10.head()"
   ]
  },
  {
   "cell_type": "code",
   "execution_count": 90,
   "metadata": {},
   "outputs": [
    {
     "data": {
      "text/html": [
       "<div>\n",
       "<style scoped>\n",
       "    .dataframe tbody tr th:only-of-type {\n",
       "        vertical-align: middle;\n",
       "    }\n",
       "\n",
       "    .dataframe tbody tr th {\n",
       "        vertical-align: top;\n",
       "    }\n",
       "\n",
       "    .dataframe thead th {\n",
       "        text-align: right;\n",
       "    }\n",
       "</style>\n",
       "<table border=\"1\" class=\"dataframe\">\n",
       "  <thead>\n",
       "    <tr style=\"text-align: right;\">\n",
       "      <th></th>\n",
       "      <th>Regions</th>\n",
       "      <th>Quarantine facilities (n)</th>\n",
       "      <th>No. of arrivals in last 24 hrs</th>\n",
       "      <th>Cumulative no of persons present</th>\n",
       "      <th>Date</th>\n",
       "    </tr>\n",
       "  </thead>\n",
       "  <tbody>\n",
       "    <tr>\n",
       "      <td>0</td>\n",
       "      <td>ICT</td>\n",
       "      <td>1</td>\n",
       "      <td>0</td>\n",
       "      <td>24</td>\n",
       "      <td>2020-04-01</td>\n",
       "    </tr>\n",
       "    <tr>\n",
       "      <td>1</td>\n",
       "      <td>Punjab</td>\n",
       "      <td>4</td>\n",
       "      <td>0</td>\n",
       "      <td>2956</td>\n",
       "      <td>2020-04-01</td>\n",
       "    </tr>\n",
       "    <tr>\n",
       "      <td>2</td>\n",
       "      <td>Sindh</td>\n",
       "      <td>5</td>\n",
       "      <td>0</td>\n",
       "      <td>1388</td>\n",
       "      <td>2020-04-01</td>\n",
       "    </tr>\n",
       "    <tr>\n",
       "      <td>3</td>\n",
       "      <td>KP</td>\n",
       "      <td>92</td>\n",
       "      <td>181</td>\n",
       "      <td>3260</td>\n",
       "      <td>2020-04-01</td>\n",
       "    </tr>\n",
       "    <tr>\n",
       "      <td>4</td>\n",
       "      <td>Balochistan</td>\n",
       "      <td>9</td>\n",
       "      <td>0</td>\n",
       "      <td>366</td>\n",
       "      <td>2020-04-01</td>\n",
       "    </tr>\n",
       "  </tbody>\n",
       "</table>\n",
       "</div>"
      ],
      "text/plain": [
       "       Regions  Quarantine facilities (n)  No. of arrivals in last 24 hrs  \\\n",
       "0          ICT                          1                               0   \n",
       "1       Punjab                          4                               0   \n",
       "2        Sindh                          5                               0   \n",
       "3           KP                         92                             181   \n",
       "4  Balochistan                          9                               0   \n",
       "\n",
       "   Cumulative no of persons present       Date  \n",
       "0                                24 2020-04-01  \n",
       "1                              2956 2020-04-01  \n",
       "2                              1388 2020-04-01  \n",
       "3                              3260 2020-04-01  \n",
       "4                               366 2020-04-01  "
      ]
     },
     "execution_count": 90,
     "metadata": {},
     "output_type": "execute_result"
    }
   ],
   "source": [
    "df10['Date']=pd.to_datetime(df10['Date']) \n",
    "df10.head()"
   ]
  },
  {
   "cell_type": "code",
   "execution_count": 91,
   "metadata": {},
   "outputs": [
    {
     "name": "stdout",
     "output_type": "stream",
     "text": [
      "Regions                             False\n",
      "Quarantine facilities (n)           False\n",
      "No. of arrivals in last 24 hrs      False\n",
      "Cumulative no of persons present    False\n",
      "Date                                False\n",
      "dtype: bool\n"
     ]
    }
   ],
   "source": [
    "print(df10.isnull().any())"
   ]
  },
  {
   "cell_type": "code",
   "execution_count": 92,
   "metadata": {},
   "outputs": [
    {
     "data": {
      "text/plain": [
       "Regions                             0\n",
       "Quarantine facilities (n)           0\n",
       "No. of arrivals in last 24 hrs      0\n",
       "Cumulative no of persons present    0\n",
       "Date                                0\n",
       "dtype: int64"
      ]
     },
     "execution_count": 92,
     "metadata": {},
     "output_type": "execute_result"
    }
   ],
   "source": [
    "df10.isin(['.','?','na','NA','N/A',np.nan,'No 0']).sum()"
   ]
  },
  {
   "cell_type": "code",
   "execution_count": 93,
   "metadata": {},
   "outputs": [
    {
     "data": {
      "text/plain": [
       "0"
      ]
     },
     "execution_count": 93,
     "metadata": {},
     "output_type": "execute_result"
    }
   ],
   "source": [
    "df10.duplicated().sum()"
   ]
  },
  {
   "cell_type": "code",
   "execution_count": 94,
   "metadata": {},
   "outputs": [
    {
     "data": {
      "text/plain": [
       "array(['ICT', 'Punjab', 'Sindh', 'KP', 'Balochistan', 'AJK', 'GB'],\n",
       "      dtype=object)"
      ]
     },
     "execution_count": 94,
     "metadata": {},
     "output_type": "execute_result"
    }
   ],
   "source": [
    "df10.Regions.unique()"
   ]
  },
  {
   "cell_type": "code",
   "execution_count": 95,
   "metadata": {},
   "outputs": [],
   "source": [
    "with pd.ExcelWriter('COVID_FINAL.xlsx') as writer:  # doctest: +SKIP\n",
    "...     df1.to_excel(writer, sheet_name='TimeSeries_KeyIndicator')\n",
    "...     df2.to_excel(writer, sheet_name='TimeSeries_KeyIndicator_Detail')\n",
    "...     df3.to_excel(writer, sheet_name='TimeSeries_Action_Screen')\n",
    "...     df4.to_excel(writer, sheet_name='TimeSeries_Action_Call')\n",
    "...     df5.to_excel(writer, sheet_name='TimeSeries_COVID_News')\n",
    "...     df6.to_excel(writer, sheet_name='TimeSeries_NIH_Response')\n",
    "...     df7.to_excel(writer, sheet_name='TimeSeries_NIH_Risk')\n",
    "...     df8.to_excel(writer, sheet_name='TimeSeries_Province_Response')\n",
    "...     df9.to_excel(writer, sheet_name='TimeSeries_Helpline_Calls')\n",
    "...     df9.to_excel(writer, sheet_name='TimeSeries_Helpline_Calls')\n",
    "...     df10.to_excel(writer, sheet_name='TimeSeries_Qurantine_Details')\n",
    "\n"
   ]
  },
  {
   "cell_type": "code",
   "execution_count": null,
   "metadata": {},
   "outputs": [],
   "source": []
  }
 ],
 "metadata": {
  "kernelspec": {
   "display_name": "Python 3",
   "language": "python",
   "name": "python3"
  },
  "language_info": {
   "codemirror_mode": {
    "name": "ipython",
    "version": 3
   },
   "file_extension": ".py",
   "mimetype": "text/x-python",
   "name": "python",
   "nbconvert_exporter": "python",
   "pygments_lexer": "ipython3",
   "version": "3.7.4"
  }
 },
 "nbformat": 4,
 "nbformat_minor": 2
}
